{
 "cells": [
  {
   "cell_type": "code",
   "execution_count": 15,
   "metadata": {},
   "outputs": [],
   "source": [
    "import pickle\n",
    "from keras.models import Sequential\n",
    "import matplotlib.pyplot as plt\n",
    "import math\n",
    "from keras.models import Sequential\n",
    "from keras.layers import Dense\n",
    "from keras.layers import LSTM\n",
    "from keras.models import Sequential\n",
    "from sklearn.preprocessing import MinMaxScaler\n",
    "from sklearn.metrics import mean_squared_error\n",
    "from keras.models import load_model"
   ]
  },
  {
   "cell_type": "code",
   "execution_count": 16,
   "metadata": {},
   "outputs": [],
   "source": [
    "#a = pickle.load(open(\"data/scaler.p\", \"rb\"))"
   ]
  },
  {
   "cell_type": "code",
   "execution_count": 18,
   "metadata": {},
   "outputs": [],
   "source": [
    "model = load_model(\"data/clid-model\")"
   ]
  },
  {
   "cell_type": "code",
   "execution_count": 20,
   "metadata": {},
   "outputs": [
    {
     "data": {
      "text/plain": [
       "[array([[-0.1813578 ,  0.2751784 ,  0.25793973, ...,  0.28271237,\n",
       "          0.26046893,  0.03042353],\n",
       "        [ 0.06864045,  0.4479636 ,  0.03968944, ...,  0.23647317,\n",
       "         -0.03765737, -0.23765263],\n",
       "        [ 0.01375426, -0.02112867,  0.2460761 , ...,  0.14342253,\n",
       "         -0.04807306,  0.50932187],\n",
       "        ...,\n",
       "        [ 0.11862105, -0.21597554, -0.19649044, ..., -0.50649357,\n",
       "         -0.41592935, -0.1336704 ],\n",
       "        [ 0.07169003,  0.61806214,  0.25478008, ...,  0.2485077 ,\n",
       "          0.20115456, -0.19801764],\n",
       "        [-0.12957539, -0.06527783, -0.3110101 , ...,  0.13006397,\n",
       "         -0.20166136, -0.14413771]], dtype=float32),\n",
       " array([[-0.4316789 , -0.08695038,  0.06651702, -0.32129967,  0.26051491,\n",
       "          0.4354233 ,  0.00061892, -0.17577493, -0.3080677 , -0.35300803,\n",
       "         -0.00403389, -0.08323356, -0.22315627,  0.346959  , -0.09501057,\n",
       "         -0.06637246],\n",
       "        [ 0.15302816, -0.4744182 ,  0.19062194,  0.08691069, -0.1997359 ,\n",
       "          0.22502589,  0.21242791, -0.05562004,  0.05990002, -0.08838341,\n",
       "          0.36469132,  0.4010649 , -0.11574932, -0.06036512,  0.274256  ,\n",
       "         -0.41395485],\n",
       "        [-0.25666648, -0.19858171, -0.13987105,  0.3552305 , -0.44246045,\n",
       "          0.07073239, -0.12290706, -0.09872116, -0.44241738,  0.11852704,\n",
       "          0.20301558, -0.16654389, -0.1809667 , -0.29951987, -0.309368  ,\n",
       "          0.16249605],\n",
       "        [ 0.25052652,  0.0029771 , -0.21471766,  0.14695825,  0.02733972,\n",
       "         -0.27327913,  0.19909985,  0.19942176, -0.13461192, -0.16546458,\n",
       "         -0.19715337, -0.07100798, -0.28265977,  0.19384362, -0.45895624,\n",
       "         -0.5451286 ]], dtype=float32),\n",
       " array([ 0.02484439, -0.0925651 ,  0.09177314,  0.09255201,  1.        ,\n",
       "         1.        ,  1.        ,  1.        , -0.07615646,  0.02624383,\n",
       "        -0.0448263 ,  0.06840879,  0.10884692,  0.05924768,  0.11100395,\n",
       "         0.07270117], dtype=float32),\n",
       " array([[-0.82302946],\n",
       "        [ 0.6136954 ],\n",
       "        [-0.34382233],\n",
       "        [ 0.64596134]], dtype=float32),\n",
       " array([0.03140012], dtype=float32)]"
      ]
     },
     "execution_count": 20,
     "metadata": {},
     "output_type": "execute_result"
    }
   ],
   "source": [
    "model.get_weights()"
   ]
  },
  {
   "cell_type": "code",
   "execution_count": null,
   "metadata": {},
   "outputs": [],
   "source": []
  }
 ],
 "metadata": {
  "kernelspec": {
   "display_name": "Python 3",
   "language": "python",
   "name": "python3"
  },
  "language_info": {
   "codemirror_mode": {
    "name": "ipython",
    "version": 3
   },
   "file_extension": ".py",
   "mimetype": "text/x-python",
   "name": "python",
   "nbconvert_exporter": "python",
   "pygments_lexer": "ipython3",
   "version": "3.7.6"
  }
 },
 "nbformat": 4,
 "nbformat_minor": 4
}
