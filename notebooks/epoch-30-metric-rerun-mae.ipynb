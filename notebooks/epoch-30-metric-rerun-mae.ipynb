{
 "cells": [
  {
   "cell_type": "markdown",
   "metadata": {},
   "source": [
    "# Data prep and modeling\n",
    "\n",
    "The first half of this notebook is basically converting the dictionary of dataframes built in the timeline notebook into train, val, and test sets consisting of tensors of timeframes as their features and tensors of positions as their targets.\n",
    "\n",
    "The second half is building models (and a custon loss function) and then evaluating them.\n",
    "\n",
    "Some of the tools here are based on the tensorflow guide on time series - though they were heavily modified.\n",
    "https://www.tensorflow.org/tutorials/structured_data/time_series/"
   ]
  },
  {
   "cell_type": "code",
   "execution_count": 52,
   "metadata": {},
   "outputs": [],
   "source": [
    "import pickle\n",
    "import json\n",
    "import requests\n",
    "import pandas as pd\n",
    "import tensorflow as tf\n",
    "import numpy as np\n",
    "import matplotlib as mpl\n",
    "import matplotlib.pyplot as plt"
   ]
  },
  {
   "cell_type": "code",
   "execution_count": 53,
   "metadata": {},
   "outputs": [],
   "source": [
    "np.random.seed(4)\n",
    "\n",
    "# these are from the keras guide\n",
    "mpl.rcParams['figure.figsize'] = (8, 6)\n",
    "mpl.rcParams['axes.grid'] = False"
   ]
  },
  {
   "cell_type": "markdown",
   "metadata": {},
   "source": [
    "## preparing the data a bit"
   ]
  },
  {
   "cell_type": "code",
   "execution_count": 54,
   "metadata": {},
   "outputs": [],
   "source": [
    "# load the game-dataframe dictionary\n",
    "dfs_dict = pickle.load(open(\"../data/timeline-di.p\", \"rb\"))"
   ]
  },
  {
   "cell_type": "code",
   "execution_count": 55,
   "metadata": {},
   "outputs": [],
   "source": [
    "# Here I split the dataframe by game. If using the model to predict future clid games, the ids shouldn't be shuffled.\n",
    "gameids = list(dfs_dict.keys())\n",
    "np.random.shuffle(gameids)\n",
    "idcount = len(gameids)\n",
    "# these can be changed if different sized splits are wanted\n",
    "# (or remove older games if ids are sorted)\n",
    "splits = [int(idcount*i) for i in [0,.8,.9,1]]\n",
    "train_ids = gameids[splits[0]:splits[1]]\n",
    "val_ids = gameids[splits[1]:splits[2]]\n",
    "test_ids = gameids[splits[2]:splits[3]]"
   ]
  },
  {
   "cell_type": "code",
   "execution_count": 56,
   "metadata": {
    "scrolled": true
   },
   "outputs": [
    {
     "data": {
      "text/html": [
       "<div>\n",
       "<style scoped>\n",
       "    .dataframe tbody tr th:only-of-type {\n",
       "        vertical-align: middle;\n",
       "    }\n",
       "\n",
       "    .dataframe tbody tr th {\n",
       "        vertical-align: top;\n",
       "    }\n",
       "\n",
       "    .dataframe thead th {\n",
       "        text-align: right;\n",
       "    }\n",
       "</style>\n",
       "<table border=\"1\" class=\"dataframe\">\n",
       "  <thead>\n",
       "    <tr style=\"text-align: right;\">\n",
       "      <th></th>\n",
       "      <th>enemy6currentGold</th>\n",
       "      <th>enemy6totalGold</th>\n",
       "      <th>enemy6level</th>\n",
       "      <th>enemy6jungleMinionsKilled</th>\n",
       "      <th>enemy6x</th>\n",
       "      <th>enemy6y</th>\n",
       "      <th>enemy7currentGold</th>\n",
       "      <th>enemy7totalGold</th>\n",
       "      <th>enemy7level</th>\n",
       "      <th>enemy7jungleMinionsKilled</th>\n",
       "      <th>...</th>\n",
       "      <th>ally4jungleMinionsKilled</th>\n",
       "      <th>ally4x</th>\n",
       "      <th>ally4y</th>\n",
       "      <th>ally_side</th>\n",
       "      <th>playercurrentGold</th>\n",
       "      <th>playertotalGold</th>\n",
       "      <th>playerlevel</th>\n",
       "      <th>playerjungleMinionsKilled</th>\n",
       "      <th>playerx</th>\n",
       "      <th>playery</th>\n",
       "    </tr>\n",
       "  </thead>\n",
       "  <tbody>\n",
       "    <tr>\n",
       "      <th>0</th>\n",
       "      <td>500.0</td>\n",
       "      <td>500.0</td>\n",
       "      <td>1.0</td>\n",
       "      <td>0.0</td>\n",
       "      <td>351.0</td>\n",
       "      <td>293.0</td>\n",
       "      <td>500.0</td>\n",
       "      <td>500.0</td>\n",
       "      <td>1.0</td>\n",
       "      <td>0.0</td>\n",
       "      <td>...</td>\n",
       "      <td>0.0</td>\n",
       "      <td>14237.0</td>\n",
       "      <td>14579.0</td>\n",
       "      <td>1</td>\n",
       "      <td>500</td>\n",
       "      <td>500</td>\n",
       "      <td>1</td>\n",
       "      <td>0</td>\n",
       "      <td>14486</td>\n",
       "      <td>14291</td>\n",
       "    </tr>\n",
       "    <tr>\n",
       "      <th>1</th>\n",
       "      <td>0.0</td>\n",
       "      <td>500.0</td>\n",
       "      <td>1.0</td>\n",
       "      <td>0.0</td>\n",
       "      <td>6882.0</td>\n",
       "      <td>6193.0</td>\n",
       "      <td>0.0</td>\n",
       "      <td>500.0</td>\n",
       "      <td>1.0</td>\n",
       "      <td>0.0</td>\n",
       "      <td>...</td>\n",
       "      <td>0.0</td>\n",
       "      <td>8509.0</td>\n",
       "      <td>5793.0</td>\n",
       "      <td>1</td>\n",
       "      <td>0</td>\n",
       "      <td>500</td>\n",
       "      <td>1</td>\n",
       "      <td>0</td>\n",
       "      <td>6898</td>\n",
       "      <td>8118</td>\n",
       "    </tr>\n",
       "    <tr>\n",
       "      <th>2</th>\n",
       "      <td>83.0</td>\n",
       "      <td>583.0</td>\n",
       "      <td>1.0</td>\n",
       "      <td>0.0</td>\n",
       "      <td>6210.0</td>\n",
       "      <td>6515.0</td>\n",
       "      <td>97.0</td>\n",
       "      <td>597.0</td>\n",
       "      <td>1.0</td>\n",
       "      <td>0.0</td>\n",
       "      <td>...</td>\n",
       "      <td>0.0</td>\n",
       "      <td>13097.0</td>\n",
       "      <td>2406.0</td>\n",
       "      <td>1</td>\n",
       "      <td>120</td>\n",
       "      <td>620</td>\n",
       "      <td>2</td>\n",
       "      <td>4</td>\n",
       "      <td>11453</td>\n",
       "      <td>6775</td>\n",
       "    </tr>\n",
       "    <tr>\n",
       "      <th>3</th>\n",
       "      <td>678.0</td>\n",
       "      <td>1178.0</td>\n",
       "      <td>3.0</td>\n",
       "      <td>0.0</td>\n",
       "      <td>8081.0</td>\n",
       "      <td>6800.0</td>\n",
       "      <td>427.0</td>\n",
       "      <td>927.0</td>\n",
       "      <td>3.0</td>\n",
       "      <td>0.0</td>\n",
       "      <td>...</td>\n",
       "      <td>0.0</td>\n",
       "      <td>14340.0</td>\n",
       "      <td>14391.0</td>\n",
       "      <td>1</td>\n",
       "      <td>579</td>\n",
       "      <td>1079</td>\n",
       "      <td>3</td>\n",
       "      <td>12</td>\n",
       "      <td>12431</td>\n",
       "      <td>2627</td>\n",
       "    </tr>\n",
       "    <tr>\n",
       "      <th>4</th>\n",
       "      <td>79.0</td>\n",
       "      <td>1364.0</td>\n",
       "      <td>3.0</td>\n",
       "      <td>0.0</td>\n",
       "      <td>5373.0</td>\n",
       "      <td>5570.0</td>\n",
       "      <td>662.0</td>\n",
       "      <td>1162.0</td>\n",
       "      <td>4.0</td>\n",
       "      <td>0.0</td>\n",
       "      <td>...</td>\n",
       "      <td>0.0</td>\n",
       "      <td>13769.0</td>\n",
       "      <td>4030.0</td>\n",
       "      <td>1</td>\n",
       "      <td>758</td>\n",
       "      <td>1258</td>\n",
       "      <td>3</td>\n",
       "      <td>13</td>\n",
       "      <td>10996</td>\n",
       "      <td>8668</td>\n",
       "    </tr>\n",
       "    <tr>\n",
       "      <th>5</th>\n",
       "      <td>411.0</td>\n",
       "      <td>1696.0</td>\n",
       "      <td>5.0</td>\n",
       "      <td>0.0</td>\n",
       "      <td>7192.0</td>\n",
       "      <td>7922.0</td>\n",
       "      <td>50.0</td>\n",
       "      <td>1550.0</td>\n",
       "      <td>5.0</td>\n",
       "      <td>0.0</td>\n",
       "      <td>...</td>\n",
       "      <td>0.0</td>\n",
       "      <td>13341.0</td>\n",
       "      <td>2434.0</td>\n",
       "      <td>1</td>\n",
       "      <td>1152</td>\n",
       "      <td>1652</td>\n",
       "      <td>4</td>\n",
       "      <td>23</td>\n",
       "      <td>6601</td>\n",
       "      <td>12746</td>\n",
       "    </tr>\n",
       "    <tr>\n",
       "      <th>6</th>\n",
       "      <td>60.0</td>\n",
       "      <td>2095.0</td>\n",
       "      <td>5.0</td>\n",
       "      <td>0.0</td>\n",
       "      <td>2838.0</td>\n",
       "      <td>2296.0</td>\n",
       "      <td>114.0</td>\n",
       "      <td>1764.0</td>\n",
       "      <td>5.0</td>\n",
       "      <td>0.0</td>\n",
       "      <td>...</td>\n",
       "      <td>0.0</td>\n",
       "      <td>12671.0</td>\n",
       "      <td>2094.0</td>\n",
       "      <td>1</td>\n",
       "      <td>37</td>\n",
       "      <td>1962</td>\n",
       "      <td>4</td>\n",
       "      <td>24</td>\n",
       "      <td>13522</td>\n",
       "      <td>7877</td>\n",
       "    </tr>\n",
       "    <tr>\n",
       "      <th>7</th>\n",
       "      <td>301.0</td>\n",
       "      <td>2336.0</td>\n",
       "      <td>6.0</td>\n",
       "      <td>0.0</td>\n",
       "      <td>6808.0</td>\n",
       "      <td>7439.0</td>\n",
       "      <td>609.0</td>\n",
       "      <td>2259.0</td>\n",
       "      <td>6.0</td>\n",
       "      <td>4.0</td>\n",
       "      <td>...</td>\n",
       "      <td>0.0</td>\n",
       "      <td>12705.0</td>\n",
       "      <td>3059.0</td>\n",
       "      <td>1</td>\n",
       "      <td>280</td>\n",
       "      <td>2205</td>\n",
       "      <td>5</td>\n",
       "      <td>29</td>\n",
       "      <td>11064</td>\n",
       "      <td>8619</td>\n",
       "    </tr>\n",
       "    <tr>\n",
       "      <th>8</th>\n",
       "      <td>625.0</td>\n",
       "      <td>2660.0</td>\n",
       "      <td>7.0</td>\n",
       "      <td>0.0</td>\n",
       "      <td>8198.0</td>\n",
       "      <td>6693.0</td>\n",
       "      <td>899.0</td>\n",
       "      <td>2549.0</td>\n",
       "      <td>7.0</td>\n",
       "      <td>4.0</td>\n",
       "      <td>...</td>\n",
       "      <td>0.0</td>\n",
       "      <td>12988.0</td>\n",
       "      <td>3607.0</td>\n",
       "      <td>1</td>\n",
       "      <td>657</td>\n",
       "      <td>2582</td>\n",
       "      <td>6</td>\n",
       "      <td>40</td>\n",
       "      <td>7533</td>\n",
       "      <td>8352</td>\n",
       "    </tr>\n",
       "    <tr>\n",
       "      <th>9</th>\n",
       "      <td>218.0</td>\n",
       "      <td>2953.0</td>\n",
       "      <td>7.0</td>\n",
       "      <td>0.0</td>\n",
       "      <td>6421.0</td>\n",
       "      <td>6660.0</td>\n",
       "      <td>427.0</td>\n",
       "      <td>2877.0</td>\n",
       "      <td>7.0</td>\n",
       "      <td>4.0</td>\n",
       "      <td>...</td>\n",
       "      <td>0.0</td>\n",
       "      <td>12922.0</td>\n",
       "      <td>2098.0</td>\n",
       "      <td>1</td>\n",
       "      <td>801</td>\n",
       "      <td>2726</td>\n",
       "      <td>6</td>\n",
       "      <td>40</td>\n",
       "      <td>12571</td>\n",
       "      <td>6306</td>\n",
       "    </tr>\n",
       "  </tbody>\n",
       "</table>\n",
       "<p>10 rows × 61 columns</p>\n",
       "</div>"
      ],
      "text/plain": [
       "   enemy6currentGold  enemy6totalGold  enemy6level  enemy6jungleMinionsKilled  \\\n",
       "0              500.0            500.0          1.0                        0.0   \n",
       "1                0.0            500.0          1.0                        0.0   \n",
       "2               83.0            583.0          1.0                        0.0   \n",
       "3              678.0           1178.0          3.0                        0.0   \n",
       "4               79.0           1364.0          3.0                        0.0   \n",
       "5              411.0           1696.0          5.0                        0.0   \n",
       "6               60.0           2095.0          5.0                        0.0   \n",
       "7              301.0           2336.0          6.0                        0.0   \n",
       "8              625.0           2660.0          7.0                        0.0   \n",
       "9              218.0           2953.0          7.0                        0.0   \n",
       "\n",
       "   enemy6x  enemy6y  enemy7currentGold  enemy7totalGold  enemy7level  \\\n",
       "0    351.0    293.0              500.0            500.0          1.0   \n",
       "1   6882.0   6193.0                0.0            500.0          1.0   \n",
       "2   6210.0   6515.0               97.0            597.0          1.0   \n",
       "3   8081.0   6800.0              427.0            927.0          3.0   \n",
       "4   5373.0   5570.0              662.0           1162.0          4.0   \n",
       "5   7192.0   7922.0               50.0           1550.0          5.0   \n",
       "6   2838.0   2296.0              114.0           1764.0          5.0   \n",
       "7   6808.0   7439.0              609.0           2259.0          6.0   \n",
       "8   8198.0   6693.0              899.0           2549.0          7.0   \n",
       "9   6421.0   6660.0              427.0           2877.0          7.0   \n",
       "\n",
       "   enemy7jungleMinionsKilled  ...  ally4jungleMinionsKilled   ally4x   ally4y  \\\n",
       "0                        0.0  ...                       0.0  14237.0  14579.0   \n",
       "1                        0.0  ...                       0.0   8509.0   5793.0   \n",
       "2                        0.0  ...                       0.0  13097.0   2406.0   \n",
       "3                        0.0  ...                       0.0  14340.0  14391.0   \n",
       "4                        0.0  ...                       0.0  13769.0   4030.0   \n",
       "5                        0.0  ...                       0.0  13341.0   2434.0   \n",
       "6                        0.0  ...                       0.0  12671.0   2094.0   \n",
       "7                        4.0  ...                       0.0  12705.0   3059.0   \n",
       "8                        4.0  ...                       0.0  12988.0   3607.0   \n",
       "9                        4.0  ...                       0.0  12922.0   2098.0   \n",
       "\n",
       "   ally_side  playercurrentGold  playertotalGold  playerlevel  \\\n",
       "0          1                500              500            1   \n",
       "1          1                  0              500            1   \n",
       "2          1                120              620            2   \n",
       "3          1                579             1079            3   \n",
       "4          1                758             1258            3   \n",
       "5          1               1152             1652            4   \n",
       "6          1                 37             1962            4   \n",
       "7          1                280             2205            5   \n",
       "8          1                657             2582            6   \n",
       "9          1                801             2726            6   \n",
       "\n",
       "   playerjungleMinionsKilled  playerx  playery  \n",
       "0                          0    14486    14291  \n",
       "1                          0     6898     8118  \n",
       "2                          4    11453     6775  \n",
       "3                         12    12431     2627  \n",
       "4                         13    10996     8668  \n",
       "5                         23     6601    12746  \n",
       "6                         24    13522     7877  \n",
       "7                         29    11064     8619  \n",
       "8                         40     7533     8352  \n",
       "9                         40    12571     6306  \n",
       "\n",
       "[10 rows x 61 columns]"
      ]
     },
     "execution_count": 56,
     "metadata": {},
     "output_type": "execute_result"
    }
   ],
   "source": [
    "# Checking things are working\n",
    "dfs_dict[train_ids[1]][0:10]"
   ]
  },
  {
   "cell_type": "code",
   "execution_count": 57,
   "metadata": {},
   "outputs": [],
   "source": [
    "# test cases that aren't used much anymore\n",
    "test0 = dfs_dict[train_ids[0]][0:20]\n",
    "test1 = dfs_dict[train_ids[1]][0:20]\n",
    "column_indices = {name: i for i, name in enumerate(test0.columns)}"
   ]
  },
  {
   "cell_type": "markdown",
   "metadata": {},
   "source": [
    "## Starting to make classes and functions"
   ]
  },
  {
   "cell_type": "code",
   "execution_count": 58,
   "metadata": {},
   "outputs": [],
   "source": [
    "class WindowGenerator():\n",
    "    \"\"\"\n",
    "    This class is heavily based on the tensorflow guide. It allows you\n",
    "    to create windows from a dataset. Currently a different one needs\n",
    "    to be called for each window shape, which isn't ideal but is \n",
    "    complicated to improve.\n",
    "    \n",
    "        Arguments:\n",
    "    input_width: int of how many time steps back the feature set should\n",
    "                 include.\n",
    "                 \n",
    "    label_width: int of how many time steps the label set should\n",
    "                 include. This is always 1 for windows meant for models,\n",
    "                 but windows made for plotting have larger values.\n",
    "                 \n",
    "    shift:       Always should be 1 as far as I can tell, indicates\n",
    "                 how far into the future to predict. \n",
    "                 \n",
    "    eg_df:       Basically just used to get column names but ideally\n",
    "                 should be removed.\n",
    "    \n",
    "    dfdi:        Dictionary of game dataframes, with gameids as index\n",
    "    \n",
    "    label_columns: List of the columns of the dfs which are the target.\n",
    "    \n",
    "    train_ids, val_ids, and test_ids: Lists of game ids determined earlier.\n",
    "    \n",
    "    \n",
    "    \n",
    "    \"\"\"\n",
    "    def __init__(self, input_width, label_width, shift,\n",
    "                 eg_df=test0, val_df = test1,\n",
    "                 dfdi=dfs_dict,\n",
    "                 train_ids=train_ids,\n",
    "                 val_ids=val_ids,\n",
    "                 test_ids=test_ids,\n",
    "                 label_columns=None):\n",
    "        \n",
    "        # Store the dfs etc in the class.\n",
    "        self.eg_df = eg_df\n",
    "        self.val_df = val_df\n",
    "        self.dfdi = dfdi\n",
    "        \n",
    "        self.train_ids = train_ids\n",
    "        self.val_ids = val_ids\n",
    "        self.test_ids = test_ids\n",
    "        \n",
    "        self.trainli = None\n",
    "        self.valli = None\n",
    "        self.testli = None\n",
    "\n",
    "        # Work out the label column indices.\n",
    "        self.label_columns = label_columns\n",
    "        if label_columns is not None:\n",
    "            self.label_columns_indices = {name: i for i, name in enumerate(label_columns)}\n",
    "        self.column_indices = {name: i for i, name in enumerate(eg_df.columns)}\n",
    "\n",
    "        # Work out the window parameters.\n",
    "        self.input_width = input_width\n",
    "        self.label_width = label_width\n",
    "        self.shift = shift\n",
    "\n",
    "        self.total_window_size = input_width + shift\n",
    "\n",
    "        self.input_slice = slice(0, input_width)\n",
    "        self.input_indices = np.arange(self.total_window_size)[self.input_slice]\n",
    "\n",
    "        self.label_start = self.total_window_size - self.label_width\n",
    "        self.labels_slice = slice(self.label_start, None)\n",
    "        self.label_indices = np.arange(self.total_window_size)[self.labels_slice]\n",
    "\n",
    "    def __repr__(self):\n",
    "        return '\\n'.join([\n",
    "                f'Total window size: {self.total_window_size}',\n",
    "                f'Input indices: {self.input_indices}',\n",
    "                f'Label indices: {self.label_indices}',\n",
    "                f'Label column name(s): {self.label_columns}'])"
   ]
  },
  {
   "cell_type": "code",
   "execution_count": 59,
   "metadata": {},
   "outputs": [],
   "source": [
    "def split_window(self, features):\n",
    "    \"\"\"\n",
    "    Splits window into labels and features.\n",
    "    \n",
    "    features: The full data being split. (tensor format I think)\n",
    "    \n",
    "    \"\"\"\n",
    "    inputs = features[:, self.input_slice, :]\n",
    "    labels = features[:, self.labels_slice, :]\n",
    "    if self.label_columns is not None:\n",
    "        # Stacking the two labels because there's x and y!\n",
    "        labels = tf.stack(\n",
    "                [labels[:, :, self.column_indices[name]] for name in self.label_columns],\n",
    "                axis=-1)\n",
    "    \n",
    "    \n",
    "    # Guide says this, not exactly sure what setting the shapes does exactly:\n",
    "    # Slicing doesn't preserve static shape information, so set the shapes\n",
    "    # manually. This way the 'tf.data.Datasets' are easier to inspect.\n",
    "    inputs.set_shape([None, self.input_width, None])\n",
    "    labels.set_shape([None, self.label_width, None])\n",
    "\n",
    "    return inputs, labels\n",
    "\n",
    "WindowGenerator.split_window = split_window"
   ]
  },
  {
   "cell_type": "code",
   "execution_count": 60,
   "metadata": {},
   "outputs": [],
   "source": [
    "def plot_map2(self, model=None, input_width=3, plot_col=[\"playerx\",\"playery\"], max_subplots=3):\n",
    "    \"\"\"\n",
    "    Plots predictions of 3 random windows from the val set of a given model.\n",
    "    Based very very vaguely on the tensorflow guide.\n",
    "    \n",
    "        Arguments:\n",
    "    model: the model (tf objects only, probably).\n",
    "    \n",
    "    input_width: how many time steps the model predicts based on.\n",
    "    \n",
    "    plot_col: list of the two columns to predict, probably always the same.\n",
    "    \n",
    "    max_subplots: number of windows to plot.\n",
    "    \"\"\"\n",
    "    \n",
    "    inputs, labels = self.val\n",
    "    # shuffle indices to get a random window, from\n",
    "    # https://stackoverflow.com/questions/56575877/shuffling-two-tensors-in-the-same-order\n",
    "    indices = tf.range(start=0, limit=tf.shape(inputs)[0], dtype=tf.int32)\n",
    "    shuffled_indices = tf.random.shuffle(indices)\n",
    "    inputs = tf.gather(inputs, shuffled_indices)\n",
    "    labels = tf.gather(labels, shuffled_indices)\n",
    "    \n",
    "    plt.figure(figsize=(5, 15))\n",
    "    # get label indices\n",
    "    plot_col_index = [self.column_indices[plot_col[0]], self.column_indices[plot_col[1]]]\n",
    "    # an easier way to grab label columns! very fashionable\n",
    "    xy_inputs = tf.gather(inputs,plot_col_index,axis=2)\n",
    "    \n",
    "    # for loop, once for each window\n",
    "    max_n = min(max_subplots, len(inputs))\n",
    "    for n in range(max_n):\n",
    "        plt.subplot(3, 1, n+1)\n",
    "        plt.xlim(0,15000)\n",
    "        plt.ylim(0,15000)\n",
    "        # plot the map background\n",
    "        img = plt.imread(\"../data/map.png\")\n",
    "        plt.imshow(img, extent=[0,15000,0,15000],)\n",
    "        \n",
    "        # plot each line of the true data as well as labeling them with time\n",
    "        for i in range(xy_inputs.shape[1]):\n",
    "            plt.plot(xy_inputs[n, i:i+2, 0], xy_inputs[n, i:i+2, 1], zorder=10, color=\"blue\")#color=(.8-i/10,1-i/8,1-i/8))\n",
    "            plt.scatter(xy_inputs[n, i, 0], xy_inputs[n, i, 1],\n",
    "                     marker='${}$'.format(str(i)), s=120, zorder=20, color=\"white\")##color=(.8-i/10,1-i/8,1-i/8))\n",
    "        \n",
    "        # vestigial if\n",
    "        if model is not None:\n",
    "            # start by predicting each window  \n",
    "            predictions = []\n",
    "            for i in range(inputs.shape[1]-1):\n",
    "                try:\n",
    "                    current = model.predict(inputs[n,i:i+input_width,:])\n",
    "                    predictions.append(current[0,:])\n",
    "                except ValueError:\n",
    "                    # an attempt to make plotmap work with multistep dense - didn't help\n",
    "                    predictions = model.predict(tf.expand_dims(inputs[n,:,:],axis=0))\n",
    "                    predictions = predictions[0,:,:]\n",
    "                \n",
    "            # plot line from each prediction to the last true value its based on\n",
    "            # and keep the time label the same as the previous plotting\n",
    "            for i in range(len(predictions)-1):\n",
    "                line_x_0 = predictions[i][0]\n",
    "                line_x_1 = predictions[i+1][0]\n",
    "                line_y_0 = predictions[i][1]\n",
    "                line_y_1 = predictions[i+1][1]\n",
    "                plt.plot([xy_inputs[n, i+input_width-1, 0],line_x_0],\n",
    "                         [xy_inputs[n, i+input_width-1, 1], line_y_0], zorder=10, color=(1,0,0))\n",
    "                plt.scatter(line_x_0, line_y_0, marker='${}$'.format(str(i+input_width)),\n",
    "                            s=120, zorder=20, color=(1,.8,.5))\n",
    "        \n",
    "        # plot the last label abusing i post for loop, very cool\n",
    "        i=i+1\n",
    "        plt.scatter(xy_inputs[n, i, 0], xy_inputs[n, i, 1],\n",
    "                         marker='${}$'.format(str(i)), s=120, zorder=20, color=\"white\")\n",
    "\n",
    "    \n",
    "WindowGenerator.plot_map2 = plot_map2"
   ]
  },
  {
   "cell_type": "code",
   "execution_count": 61,
   "metadata": {},
   "outputs": [],
   "source": [
    "def make_dataset(self, data, list_me=False):\n",
    "    \"\"\"\n",
    "    make_dataset converts a single game dataframe into windows.\n",
    "        \n",
    "        Arguments:\n",
    "    data: Dataframe of a single game\n",
    "    \n",
    "    list_me: Whether to return a list of windows or a map of windows.\n",
    "    \"\"\"\n",
    "    data = np.array(data, dtype=np.float32)\n",
    "    \n",
    "    # \"Creates a dataset of sliding windows over a timeseries provided as array.\"\n",
    "    ds = tf.keras.preprocessing.timeseries_dataset_from_array(\n",
    "            data=data,\n",
    "            targets=None,\n",
    "            sequence_length=self.total_window_size,\n",
    "            sequence_stride=1,\n",
    "            shuffle=True,\n",
    "            batch_size=32,)\n",
    "\n",
    "    ds = ds.map(self.split_window)\n",
    "    if list_me:\n",
    "        return list(ds)\n",
    "    return ds\n",
    "\n",
    "WindowGenerator.make_dataset = make_dataset"
   ]
  },
  {
   "cell_type": "code",
   "execution_count": 62,
   "metadata": {},
   "outputs": [],
   "source": [
    "def make_split_from_dfdi(self,minmax=(0,20)):\n",
    "    \"\"\"\n",
    "    Combines the windows from each game generated by make_dataset.\n",
    "        Arguments:\n",
    "    minmax: Tuple of what timeframe to sample from (minutes).\n",
    "    \"\"\"\n",
    "    # minmax is start and end time of window being sampled from.\n",
    "    # splits is where the data is being split for train val test split\n",
    "    if self.dfdi is None:\n",
    "        print(\"no dfdi attached\")\n",
    "        raise KeyError(\"no dfdi attached\")\n",
    "    train_ids = self.train_ids\n",
    "    val_ids = self.val_ids\n",
    "    test_ids = self.test_ids\n",
    "    if self.trainli is None:\n",
    "        trainli = build_batch(self, self.dfdi, train_ids, minmax)\n",
    "        train_feats = tf.concat([batch[0] for batch in trainli], axis=0)\n",
    "        train_labels = tf.concat([batch[1] for batch in trainli], axis=0)\n",
    "        \n",
    "    if self.valli is None:\n",
    "        valli = build_batch(self, self.dfdi, val_ids, minmax)\n",
    "        val_feats = tf.concat([batch[0] for batch in valli], axis=0)\n",
    "        val_labels = tf.concat([batch[1] for batch in valli], axis=0)\n",
    "            \n",
    "    if self.testli is None:\n",
    "        testli = build_batch(self, self.dfdi, test_ids, minmax)\n",
    "        test_feats = tf.concat([batch[0] for batch in testli], axis=0)\n",
    "        test_labels = tf.concat([batch[1] for batch in testli], axis=0)\n",
    "            \n",
    "        \n",
    "    print(train_feats.shape, train_labels.shape)\n",
    "    self.train = (train_feats, train_labels)\n",
    "    self.val = (val_feats, val_labels)\n",
    "    self.test = (test_feats, test_labels)\n",
    "    \n",
    "\n",
    "WindowGenerator.make_split_from_dfdi = make_split_from_dfdi"
   ]
  },
  {
   "cell_type": "code",
   "execution_count": 63,
   "metadata": {},
   "outputs": [],
   "source": [
    "def build_batch(self, dfdi, id_li, minmax):\n",
    "    \"\"\"\n",
    "    Calls make_dataset on a specific match and adds it to list. Probably\n",
    "    doesn't make enough use of self.\n",
    "    \n",
    "        Arguments:\n",
    "    dfdi: dictionary of shape matchid: dataframe.\n",
    "    \n",
    "    id_li: list of matchids to use.\n",
    "    \n",
    "    minmax: list of start and end time of what times to build from - if game is shorter than max, just uses last time\n",
    "    returns a list of tf tensors.\n",
    "    \"\"\"\n",
    "    dataset_li = []\n",
    "    for match_id in id_li:\n",
    "        df = dfdi[match_id]\n",
    "        df = df.iloc[minmax[0]:minmax[1]]\n",
    "        dataset_li = dataset_li + make_dataset(self, data=df, list_me=True)\n",
    "    return dataset_li\n",
    "\n",
    "WindowGenerator.build_batch = build_batch"
   ]
  },
  {
   "cell_type": "markdown",
   "metadata": {},
   "source": [
    "Making a bunch of windows!"
   ]
  },
  {
   "cell_type": "code",
   "execution_count": 64,
   "metadata": {
    "scrolled": false
   },
   "outputs": [
    {
     "data": {
      "text/plain": [
       "Total window size: 2\n",
       "Input indices: [0]\n",
       "Label indices: [1]\n",
       "Label column name(s): ['playerx', 'playery']"
      ]
     },
     "execution_count": 64,
     "metadata": {},
     "output_type": "execute_result"
    }
   ],
   "source": [
    "single_step_window = WindowGenerator(\n",
    "    input_width=1, label_width=1, shift=1,\n",
    "    label_columns=[\"playerx\", \"playery\"])\n",
    "single_step_window"
   ]
  },
  {
   "cell_type": "code",
   "execution_count": 65,
   "metadata": {},
   "outputs": [
    {
     "data": {
      "text/plain": [
       "Total window size: 4\n",
       "Input indices: [0 1 2]\n",
       "Label indices: [3]\n",
       "Label column name(s): ['playerx', 'playery']"
      ]
     },
     "execution_count": 65,
     "metadata": {},
     "output_type": "execute_result"
    }
   ],
   "source": [
    "conv_window_3 = WindowGenerator(\n",
    "    input_width=3,\n",
    "    label_width=1,\n",
    "    shift=1,\n",
    "    label_columns=[\"playerx\",\"playery\"])\n",
    "\n",
    "conv_window_3"
   ]
  },
  {
   "cell_type": "code",
   "execution_count": 66,
   "metadata": {},
   "outputs": [
    {
     "data": {
      "text/plain": [
       "Total window size: 5\n",
       "Input indices: [0 1 2 3]\n",
       "Label indices: [4]\n",
       "Label column name(s): ['playerx', 'playery']"
      ]
     },
     "execution_count": 66,
     "metadata": {},
     "output_type": "execute_result"
    }
   ],
   "source": [
    "conv_window_4 = WindowGenerator(\n",
    "    input_width=4,\n",
    "    label_width=1,\n",
    "    shift=1,\n",
    "    label_columns=[\"playerx\",\"playery\"])\n",
    "\n",
    "conv_window_4"
   ]
  },
  {
   "cell_type": "code",
   "execution_count": 67,
   "metadata": {},
   "outputs": [
    {
     "data": {
      "text/plain": [
       "Total window size: 3\n",
       "Input indices: [0 1]\n",
       "Label indices: [2]\n",
       "Label column name(s): ['playerx', 'playery']"
      ]
     },
     "execution_count": 67,
     "metadata": {},
     "output_type": "execute_result"
    }
   ],
   "source": [
    "conv_window_2 = WindowGenerator(\n",
    "    input_width=2,\n",
    "    label_width=1,\n",
    "    shift=1,\n",
    "    label_columns=[\"playerx\",\"playery\"])\n",
    "\n",
    "conv_window_2"
   ]
  },
  {
   "cell_type": "code",
   "execution_count": 68,
   "metadata": {},
   "outputs": [],
   "source": [
    "# store windows as dict to cycle through\n",
    "windows = {6:conv_window_2, 8:conv_window_3, 4:conv_window_4}"
   ]
  },
  {
   "cell_type": "code",
   "execution_count": 69,
   "metadata": {},
   "outputs": [
    {
     "data": {
      "text/plain": [
       "Total window size: 11\n",
       "Input indices: [0 1 2 3 4 5 6 7 8 9]\n",
       "Label indices: [ 1  2  3  4  5  6  7  8  9 10]\n",
       "Label column name(s): ['playerx', 'playery']"
      ]
     },
     "execution_count": 69,
     "metadata": {},
     "output_type": "execute_result"
    }
   ],
   "source": [
    "# for plotting\n",
    "wide_window = WindowGenerator(\n",
    "    input_width=10, label_width=10, shift=1,\n",
    "    label_columns=[\"playerx\",\"playery\"])\n",
    "\n",
    "wide_window"
   ]
  },
  {
   "cell_type": "code",
   "execution_count": 70,
   "metadata": {
    "scrolled": true
   },
   "outputs": [
    {
     "name": "stdout",
     "output_type": "stream",
     "text": [
      "(3040, 1, 61) (3040, 1, 2)\n"
     ]
    }
   ],
   "source": [
    "single_step_window.make_split_from_dfdi()"
   ]
  },
  {
   "cell_type": "code",
   "execution_count": 71,
   "metadata": {},
   "outputs": [
    {
     "name": "stdout",
     "output_type": "stream",
     "text": [
      "(2880, 2, 61) (2880, 1, 2)\n",
      "(2720, 3, 61) (2720, 1, 2)\n",
      "(2560, 4, 61) (2560, 1, 2)\n"
     ]
    }
   ],
   "source": [
    "conv_window_2.make_split_from_dfdi()\n",
    "conv_window_3.make_split_from_dfdi()\n",
    "conv_window_4.make_split_from_dfdi()"
   ]
  },
  {
   "cell_type": "code",
   "execution_count": 72,
   "metadata": {},
   "outputs": [
    {
     "name": "stdout",
     "output_type": "stream",
     "text": [
      "(1600, 10, 61) (1600, 10, 2)\n"
     ]
    }
   ],
   "source": [
    "wide_window.make_split_from_dfdi()"
   ]
  },
  {
   "cell_type": "code",
   "execution_count": 73,
   "metadata": {},
   "outputs": [],
   "source": [
    "def tensor_distance_mae(y_true, y_pred):\n",
    "    \"\"\"takes two [n,1,2] tensors and returns the mean distance between the points\"\"\"\n",
    "    # trying to make it work with lstm but ultimately failed because I can't use\n",
    "    # sequential model for multitarget lstm.\n",
    "    if y_true.shape[1:] != y_pred.shape[1:]:\n",
    "        print(y_true)\n",
    "        print(y_true[:,:,1])\n",
    "        print(y_pred)\n",
    "        #\"\"\"\n",
    "        raise ValueError(\"passed tensors have different shape \"\n",
    "                         + str(y_true.shape) + \" \"\n",
    "                         + str(y_pred.shape) + \"\\n\"\n",
    "                         + str(y_true) + \"\\n\"\n",
    "                         + str(y_pred)\n",
    "                        )\n",
    "        \n",
    "    # simple mae calculation\n",
    "    dx2 = (y_true[:,:,0] - y_pred[:,:,0])**2\n",
    "    dy2 = (y_true[:,:,1] - y_pred[:,:,1])**2\n",
    "    dist = (dx2 + dy2)**.5\n",
    "    dist_sum = tf.math.reduce_mean(dist)\n",
    "    return dist_sum"
   ]
  },
  {
   "cell_type": "code",
   "execution_count": 74,
   "metadata": {},
   "outputs": [],
   "source": [
    "def tensor_distance_rmse(y_true, y_pred):\n",
    "    \"\"\"takes two [n,1,2] tensors and returns the root mean squared distance between the points\"\"\"\n",
    "    if y_true.shape[1:] != y_pred.shape[1:]:\n",
    "        raise ValueError(\"passed tensors have different shape\")\n",
    "    dx2 = (y_true[:,:,0] - y_pred[:,:,0])**2\n",
    "    dy2 = (y_true[:,:,1] - y_pred[:,:,1])**2\n",
    "    dist2 = dx2 + dy2\n",
    "    dist2_sum = tf.math.reduce_mean(dist2)\n",
    "    rmse = dist2_sum**.5\n",
    "    return rmse"
   ]
  },
  {
   "cell_type": "code",
   "execution_count": 75,
   "metadata": {},
   "outputs": [],
   "source": [
    "def tensor_distance_log_n(y_true, y_pred, scalar=1000):\n",
    "    \"\"\"\n",
    "    takes two [n,1,2] tensors and returns the mean of log(distance/scalar + 1)\n",
    "    between each predicted and true position.\n",
    "    \"\"\"\n",
    "    # trying to make it work with lstm but ultimately failed because I can't use\n",
    "    # sequential model for multitarget lstm.\n",
    "    if y_true.shape[1:] != y_pred.shape[1:]:\n",
    "        raise ValueError(\"passed tensors have different shape \"\n",
    "                         + str(y_true.shape) + \" \"\n",
    "                         + str(y_pred.shape) + \"\\n\"\n",
    "                         + str(y_true) + \"\\n\"\n",
    "                         + str(y_pred)\n",
    "                        )\n",
    "        \n",
    "    # log mae calculation\n",
    "    dx2 = (y_true[:,:,0] - y_pred[:,:,0])**2\n",
    "    dy2 = (y_true[:,:,1] - y_pred[:,:,1])**2\n",
    "    dist = (dx2 + dy2)**.5\n",
    "    log_dist = tf.math.log(dist/scalar + 1)\n",
    "    log_dist_mean = tf.math.reduce_mean(log_dist)\n",
    "    return log_dist_mean"
   ]
  },
  {
   "cell_type": "code",
   "execution_count": 76,
   "metadata": {},
   "outputs": [],
   "source": [
    "def tensor_distance_sqrt(y_true, y_pred):\n",
    "    \"\"\"\n",
    "    takes two [n,1,2] tensors and returns the mean of sqrt(distance)\n",
    "    between each predicted and true position.\n",
    "    \"\"\"\n",
    "    # trying to make it work with lstm but ultimately failed because I can't use\n",
    "    # sequential model for multitarget lstm.\n",
    "    if y_true.shape[1:] != y_pred.shape[1:]:\n",
    "        raise ValueError(\"passed tensors have different shape \"\n",
    "                         + str(y_true.shape) + \" \"\n",
    "                         + str(y_pred.shape) + \"\\n\"\n",
    "                         + str(y_true) + \"\\n\"\n",
    "                         + str(y_pred)\n",
    "                        )\n",
    "        \n",
    "    # sqrt mean error calculation\n",
    "    dx2 = (y_true[:,:,0] - y_pred[:,:,0])**2\n",
    "    dy2 = (y_true[:,:,1] - y_pred[:,:,1])**2\n",
    "    root_dist = (dx2 + dy2)**.25\n",
    "    root_dist_mean = tf.math.reduce_mean(root_dist)\n",
    "    return root_dist_mean"
   ]
  },
  {
   "cell_type": "code",
   "execution_count": 77,
   "metadata": {
    "scrolled": true
   },
   "outputs": [
    {
     "data": {
      "text/plain": [
       "TensorShape([340, 1, 61])"
      ]
     },
     "metadata": {},
     "output_type": "display_data"
    },
    {
     "data": {
      "text/plain": [
       "TensorShape([340, 2, 61])"
      ]
     },
     "metadata": {},
     "output_type": "display_data"
    },
    {
     "data": {
      "text/plain": [
       "TensorShape([340, 3, 61])"
      ]
     },
     "metadata": {},
     "output_type": "display_data"
    },
    {
     "data": {
      "text/plain": [
       "TensorShape([340, 3, 61])"
      ]
     },
     "metadata": {},
     "output_type": "display_data"
    },
    {
     "data": {
      "text/plain": [
       "TensorShape([340, 3, 61])"
      ]
     },
     "metadata": {},
     "output_type": "display_data"
    },
    {
     "data": {
      "text/plain": [
       "TensorShape([340, 3, 61])"
      ]
     },
     "metadata": {},
     "output_type": "display_data"
    },
    {
     "data": {
      "text/plain": [
       "TensorShape([340, 3, 61])"
      ]
     },
     "metadata": {},
     "output_type": "display_data"
    }
   ],
   "source": [
    "# going to use a subset of the conv test set as my test set\n",
    "train = {}\n",
    "val = {}\n",
    "test = {}\n",
    "train[1] = single_step_window.train\n",
    "val[1] = single_step_window.val\n",
    "for i in sorted(windows.keys()):\n",
    "    train[i] = windows[i].train\n",
    "    val[i] = windows[i].val\n",
    "\n",
    "# i is largest lookback size\n",
    "# use largest window's test set as test set for other windows by slicing largest window\n",
    "test[i] = windows[i].test\n",
    "for n in range(1,i):\n",
    "    test[n] = (test[i][0][:,-n:,:], test[i][1])\n",
    "    display(test[n][0].shape)"
   ]
  },
  {
   "cell_type": "markdown",
   "metadata": {},
   "source": [
    "## Building models"
   ]
  },
  {
   "cell_type": "code",
   "execution_count": 78,
   "metadata": {},
   "outputs": [],
   "source": [
    "# old baseline class which does very bad\n",
    "class Baseline(tf.keras.Model):\n",
    "    def __init__(self, label_index=None):\n",
    "        super().__init__()\n",
    "        self.label_index = label_index\n",
    "\n",
    "    def call(self, inputs):\n",
    "        if self.label_index is None:\n",
    "            return inputs\n",
    "        elif isinstance(self.label_index,(list,tuple)):\n",
    "            return inputs[:,:, self.label_index[0]:self.label_index[1]+1]\n",
    "        result = inputs[:, :, self.label_index]\n",
    "        return result[:, :, tf.newaxis]"
   ]
  },
  {
   "cell_type": "code",
   "execution_count": 79,
   "metadata": {},
   "outputs": [],
   "source": [
    "baseline = Baseline(label_index=[column_indices[\"playerx\"],column_indices[\"playery\"]])"
   ]
  },
  {
   "cell_type": "code",
   "execution_count": 80,
   "metadata": {},
   "outputs": [],
   "source": [
    "linear = tf.keras.Sequential([\n",
    "    tf.keras.layers.Dense(units=2)\n",
    "])"
   ]
  },
  {
   "cell_type": "code",
   "execution_count": 81,
   "metadata": {},
   "outputs": [],
   "source": [
    "dense = tf.keras.Sequential([\n",
    "    tf.keras.layers.Dense(units=64, activation='relu'),\n",
    "    tf.keras.layers.Dense(units=64, activation='relu'),\n",
    "    tf.keras.layers.Dense(units=2)\n",
    "])"
   ]
  },
  {
   "cell_type": "code",
   "execution_count": 82,
   "metadata": {},
   "outputs": [],
   "source": [
    "# making a model for each lookback\n",
    "multi_dense_models = {}\n",
    "for k in sorted(windows.keys()):\n",
    "    multi_dense_models[k] = tf.keras.Sequential([\n",
    "        # Shape: (time, features) => (time*features)\n",
    "        tf.keras.layers.Flatten(),\n",
    "        tf.keras.layers.Dense(units=32, activation='relu'),\n",
    "        tf.keras.layers.Dense(units=32, activation='relu'),\n",
    "        tf.keras.layers.Dense(units=2),\n",
    "        # Add back the time dimension.\n",
    "        # Shape: (outputs) => (1, outputs) --- this is from guide's code\n",
    "        # looks like it might be causing plotting errs -----\n",
    "        # nvm :( i wish it was the cause\n",
    "        tf.keras.layers.Reshape([1, -1]),\n",
    "    ])"
   ]
  },
  {
   "cell_type": "code",
   "execution_count": 83,
   "metadata": {},
   "outputs": [],
   "source": [
    "# making a model for each lookback\n",
    "conv_models = {}\n",
    "for k in sorted(windows.keys()):\n",
    "    conv_models[k] = tf.keras.Sequential([\n",
    "        tf.keras.layers.Conv1D(filters=32,\n",
    "                               kernel_size=(k),\n",
    "                               activation='relu'),\n",
    "        tf.keras.layers.Dense(units=32, activation='relu'),\n",
    "        tf.keras.layers.Dense(units=2),\n",
    "    ])"
   ]
  },
  {
   "cell_type": "code",
   "execution_count": 84,
   "metadata": {},
   "outputs": [
    {
     "data": {
      "text/plain": [
       "''"
      ]
     },
     "execution_count": 84,
     "metadata": {},
     "output_type": "execute_result"
    }
   ],
   "source": [
    "# lstm model isn't functional yet sob\n",
    "\"\"\"lstm_model = tf.keras.models.Sequential([\n",
    "    # Shape [batch, time, features] => [batch, time, lstm_units]\n",
    "    tf.keras.layers.LSTM(32, return_sequences=True),\n",
    "    # Shape => [batch, time, features]\n",
    "    tf.keras.layers.Dense(units=2)\n",
    "])\"\"\"\n",
    "\"\""
   ]
  },
  {
   "cell_type": "markdown",
   "metadata": {},
   "source": [
    "## Compiling models using custom MAE"
   ]
  },
  {
   "cell_type": "code",
   "execution_count": 85,
   "metadata": {},
   "outputs": [],
   "source": [
    "lossli = tensor_distance_mae #[tensor_distance_mae, tensor_distance_log_n, tensor_distance_sqrt]\n",
    "metricli = tensor_distance_mae #[tensor_distance_mae, tensor_distance_log_n, tensor_distance_sqrt]"
   ]
  },
  {
   "cell_type": "code",
   "execution_count": 86,
   "metadata": {},
   "outputs": [],
   "source": [
    "baseline.compile(loss=lossli,\n",
    "                 metrics=metricli)"
   ]
  },
  {
   "cell_type": "code",
   "execution_count": 87,
   "metadata": {},
   "outputs": [],
   "source": [
    "linear.compile(loss=lossli,\n",
    "               metrics=metricli,\n",
    "               optimizer=tf.optimizers.Adam()\n",
    "              )\n",
    "dense.compile(loss=lossli,\n",
    "               metrics=metricli,\n",
    "               optimizer=tf.optimizers.Adam()\n",
    "              )"
   ]
  },
  {
   "cell_type": "code",
   "execution_count": 88,
   "metadata": {},
   "outputs": [],
   "source": [
    "for model in multi_dense_models.values():\n",
    "    model.compile(loss=lossli,\n",
    "                   metrics=metricli,\n",
    "                   optimizer=tf.optimizers.Adam()\n",
    "                  )"
   ]
  },
  {
   "cell_type": "code",
   "execution_count": 89,
   "metadata": {},
   "outputs": [
    {
     "data": {
      "text/plain": [
       "''"
      ]
     },
     "execution_count": 89,
     "metadata": {},
     "output_type": "execute_result"
    }
   ],
   "source": [
    "for model in conv_models.values():\n",
    "    model.compile(loss=lossli,\n",
    "               metrics=metricli,\n",
    "               optimizer=tf.optimizers.Adam()\n",
    "              )\n",
    "# lstm model isn't functional yet sob\n",
    "\"\"\"lstm_model.compile(loss=tf.losses.MeanSquaredError(),\n",
    "               metrics=tf.losses.MeanSquaredError(),\n",
    "               #optimizer=tf.optimizers.Adam()\n",
    "              )\"\"\"\n",
    "\"\""
   ]
  },
  {
   "cell_type": "markdown",
   "metadata": {},
   "source": [
    "## Fitting models"
   ]
  },
  {
   "cell_type": "code",
   "execution_count": 90,
   "metadata": {
    "scrolled": true
   },
   "outputs": [
    {
     "name": "stdout",
     "output_type": "stream",
     "text": [
      "Epoch 1/30\n",
      "95/95 [==============================] - 0s 2ms/step - loss: 5686.1006 - tensor_distance_mae: 5686.1006 - val_loss: 5639.1006 - val_tensor_distance_mae: 5633.8325\n",
      "Epoch 2/30\n",
      "95/95 [==============================] - 0s 916us/step - loss: 5686.1001 - tensor_distance_mae: 5686.1001 - val_loss: 5639.1006 - val_tensor_distance_mae: 5633.8325\n",
      "Epoch 3/30\n",
      "95/95 [==============================] - 0s 821us/step - loss: 5686.1006 - tensor_distance_mae: 5686.1006 - val_loss: 5639.1006 - val_tensor_distance_mae: 5633.8325\n",
      "Epoch 4/30\n",
      "95/95 [==============================] - 0s 955us/step - loss: 5686.1006 - tensor_distance_mae: 5686.1006 - val_loss: 5639.1006 - val_tensor_distance_mae: 5633.8325\n",
      "Epoch 5/30\n",
      "95/95 [==============================] - 0s 2ms/step - loss: 5686.1001 - tensor_distance_mae: 5686.1001 - val_loss: 5639.1006 - val_tensor_distance_mae: 5633.8325\n",
      "Epoch 6/30\n",
      "95/95 [==============================] - 0s 2ms/step - loss: 5686.1006 - tensor_distance_mae: 5686.1006 - val_loss: 5639.1006 - val_tensor_distance_mae: 5633.8325\n",
      "Epoch 7/30\n",
      "95/95 [==============================] - 0s 887us/step - loss: 5686.1001 - tensor_distance_mae: 5686.1001 - val_loss: 5639.1006 - val_tensor_distance_mae: 5633.8325\n",
      "Epoch 8/30\n",
      "95/95 [==============================] - 0s 747us/step - loss: 5686.1006 - tensor_distance_mae: 5686.1006 - val_loss: 5639.1006 - val_tensor_distance_mae: 5633.8325\n",
      "Epoch 9/30\n",
      "95/95 [==============================] - 0s 1ms/step - loss: 5686.1001 - tensor_distance_mae: 5686.1001 - val_loss: 5639.1006 - val_tensor_distance_mae: 5633.8325\n",
      "Epoch 10/30\n",
      "95/95 [==============================] - 0s 835us/step - loss: 5686.1011 - tensor_distance_mae: 5686.1011 - val_loss: 5639.1006 - val_tensor_distance_mae: 5633.8325\n",
      "Epoch 11/30\n",
      "95/95 [==============================] - 0s 2ms/step - loss: 5686.1001 - tensor_distance_mae: 5686.1001 - val_loss: 5639.1006 - val_tensor_distance_mae: 5633.8325\n",
      "Epoch 12/30\n",
      "95/95 [==============================] - 0s 2ms/step - loss: 5686.1006 - tensor_distance_mae: 5686.1006 - val_loss: 5639.1006 - val_tensor_distance_mae: 5633.8325\n",
      "Epoch 13/30\n",
      "95/95 [==============================] - 0s 911us/step - loss: 5686.1006 - tensor_distance_mae: 5686.1006 - val_loss: 5639.1006 - val_tensor_distance_mae: 5633.8325\n",
      "Epoch 14/30\n",
      "95/95 [==============================] - 0s 881us/step - loss: 5686.1025 - tensor_distance_mae: 5686.1025 - val_loss: 5639.1006 - val_tensor_distance_mae: 5633.8325\n",
      "Epoch 15/30\n",
      "95/95 [==============================] - 0s 1ms/step - loss: 5686.1006 - tensor_distance_mae: 5686.1006 - val_loss: 5639.1006 - val_tensor_distance_mae: 5633.8325\n",
      "Epoch 16/30\n",
      "95/95 [==============================] - 0s 951us/step - loss: 5686.1006 - tensor_distance_mae: 5686.1006 - val_loss: 5639.1006 - val_tensor_distance_mae: 5633.8325\n",
      "Epoch 17/30\n",
      "95/95 [==============================] - 0s 814us/step - loss: 5686.1006 - tensor_distance_mae: 5686.1006 - val_loss: 5639.1006 - val_tensor_distance_mae: 5633.8325\n",
      "Epoch 18/30\n",
      "95/95 [==============================] - 0s 959us/step - loss: 5686.1006 - tensor_distance_mae: 5686.1006 - val_loss: 5639.1006 - val_tensor_distance_mae: 5633.8325\n",
      "Epoch 19/30\n",
      "95/95 [==============================] - 0s 741us/step - loss: 5686.1001 - tensor_distance_mae: 5686.1001 - val_loss: 5639.1006 - val_tensor_distance_mae: 5633.8325\n",
      "Epoch 20/30\n",
      "95/95 [==============================] - 0s 788us/step - loss: 5686.0991 - tensor_distance_mae: 5686.0991 - val_loss: 5639.1006 - val_tensor_distance_mae: 5633.8325\n",
      "Epoch 21/30\n",
      "95/95 [==============================] - 0s 739us/step - loss: 5686.1006 - tensor_distance_mae: 5686.1006 - val_loss: 5639.1006 - val_tensor_distance_mae: 5633.8325\n",
      "Epoch 22/30\n",
      "95/95 [==============================] - 0s 691us/step - loss: 5686.1001 - tensor_distance_mae: 5686.1001 - val_loss: 5639.1006 - val_tensor_distance_mae: 5633.8325\n",
      "Epoch 23/30\n",
      "95/95 [==============================] - 0s 697us/step - loss: 5686.1006 - tensor_distance_mae: 5686.1006 - val_loss: 5639.1006 - val_tensor_distance_mae: 5633.8325\n",
      "Epoch 24/30\n",
      "95/95 [==============================] - 0s 1ms/step - loss: 5686.1011 - tensor_distance_mae: 5686.1011 - val_loss: 5639.1006 - val_tensor_distance_mae: 5633.8325\n",
      "Epoch 25/30\n",
      "95/95 [==============================] - 0s 901us/step - loss: 5686.1001 - tensor_distance_mae: 5686.1001 - val_loss: 5639.1006 - val_tensor_distance_mae: 5633.8325\n",
      "Epoch 26/30\n",
      "95/95 [==============================] - 0s 704us/step - loss: 5686.1006 - tensor_distance_mae: 5686.1006 - val_loss: 5639.1006 - val_tensor_distance_mae: 5633.8325\n",
      "Epoch 27/30\n",
      "95/95 [==============================] - 0s 701us/step - loss: 5686.1006 - tensor_distance_mae: 5686.1006 - val_loss: 5639.1006 - val_tensor_distance_mae: 5633.8325\n",
      "Epoch 28/30\n",
      "95/95 [==============================] - 0s 684us/step - loss: 5686.1006 - tensor_distance_mae: 5686.1006 - val_loss: 5639.1006 - val_tensor_distance_mae: 5633.8325\n",
      "Epoch 29/30\n",
      "95/95 [==============================] - 0s 685us/step - loss: 5686.1006 - tensor_distance_mae: 5686.1006 - val_loss: 5639.1006 - val_tensor_distance_mae: 5633.8325\n",
      "Epoch 30/30\n",
      "95/95 [==============================] - 0s 785us/step - loss: 5686.0991 - tensor_distance_mae: 5686.0991 - val_loss: 5639.1006 - val_tensor_distance_mae: 5633.8325\n"
     ]
    },
    {
     "data": {
      "text/plain": [
       "<tensorflow.python.keras.callbacks.History at 0x7ff875f7efd0>"
      ]
     },
     "execution_count": 90,
     "metadata": {},
     "output_type": "execute_result"
    }
   ],
   "source": [
    "baseline.fit(x=train[1][0],\n",
    "           y=train[1][1],\n",
    "           batch_size=32,\n",
    "           epochs=30,\n",
    "           verbose=1,\n",
    "           validation_data=val[1]\n",
    "          )"
   ]
  },
  {
   "cell_type": "code",
   "execution_count": 91,
   "metadata": {
    "scrolled": true
   },
   "outputs": [
    {
     "name": "stdout",
     "output_type": "stream",
     "text": [
      "Epoch 1/30\n",
      "95/95 [==============================] - 0s 3ms/step - loss: 6174.8511 - tensor_distance_mae: 6174.8511 - val_loss: 5233.4277 - val_tensor_distance_mae: 5225.3931\n",
      "Epoch 2/30\n",
      "95/95 [==============================] - 0s 1ms/step - loss: 5200.9028 - tensor_distance_mae: 5200.9028 - val_loss: 4803.9233 - val_tensor_distance_mae: 4798.1118\n",
      "Epoch 3/30\n",
      "95/95 [==============================] - 0s 1ms/step - loss: 4870.7832 - tensor_distance_mae: 4870.7832 - val_loss: 4644.4077 - val_tensor_distance_mae: 4639.1357\n",
      "Epoch 4/30\n",
      "95/95 [==============================] - 0s 910us/step - loss: 4725.0015 - tensor_distance_mae: 4725.0015 - val_loss: 4557.2080 - val_tensor_distance_mae: 4551.8960\n",
      "Epoch 5/30\n",
      "95/95 [==============================] - 0s 1ms/step - loss: 4617.9502 - tensor_distance_mae: 4617.9502 - val_loss: 4536.2012 - val_tensor_distance_mae: 4531.1538\n",
      "Epoch 6/30\n",
      "95/95 [==============================] - 0s 1ms/step - loss: 4554.2554 - tensor_distance_mae: 4554.2554 - val_loss: 4482.3750 - val_tensor_distance_mae: 4477.0532\n",
      "Epoch 7/30\n",
      "95/95 [==============================] - 0s 1ms/step - loss: 4492.0864 - tensor_distance_mae: 4492.0864 - val_loss: 4403.2188 - val_tensor_distance_mae: 4397.9111\n",
      "Epoch 8/30\n",
      "95/95 [==============================] - 0s 926us/step - loss: 4451.4478 - tensor_distance_mae: 4451.4478 - val_loss: 4418.3477 - val_tensor_distance_mae: 4413.6191\n",
      "Epoch 9/30\n",
      "95/95 [==============================] - 0s 1ms/step - loss: 4419.4619 - tensor_distance_mae: 4419.4619 - val_loss: 4365.4155 - val_tensor_distance_mae: 4360.7041\n",
      "Epoch 10/30\n",
      "95/95 [==============================] - 0s 961us/step - loss: 4398.9761 - tensor_distance_mae: 4398.9761 - val_loss: 4445.9648 - val_tensor_distance_mae: 4442.4536\n",
      "Epoch 11/30\n",
      "95/95 [==============================] - 0s 2ms/step - loss: 4373.2344 - tensor_distance_mae: 4373.2344 - val_loss: 4365.2827 - val_tensor_distance_mae: 4361.5830\n",
      "Epoch 12/30\n",
      "95/95 [==============================] - 0s 885us/step - loss: 4362.3130 - tensor_distance_mae: 4362.3130 - val_loss: 4340.0669 - val_tensor_distance_mae: 4336.1934\n",
      "Epoch 13/30\n",
      "95/95 [==============================] - 0s 847us/step - loss: 4356.4258 - tensor_distance_mae: 4356.4258 - val_loss: 4302.2676 - val_tensor_distance_mae: 4298.4751\n",
      "Epoch 14/30\n",
      "95/95 [==============================] - 0s 1ms/step - loss: 4325.6548 - tensor_distance_mae: 4325.6548 - val_loss: 4289.8965 - val_tensor_distance_mae: 4286.2559\n",
      "Epoch 15/30\n",
      "95/95 [==============================] - 0s 873us/step - loss: 4309.9561 - tensor_distance_mae: 4309.9561 - val_loss: 4326.2661 - val_tensor_distance_mae: 4323.6235\n",
      "Epoch 16/30\n",
      "95/95 [==============================] - 0s 903us/step - loss: 4303.5708 - tensor_distance_mae: 4303.5708 - val_loss: 4302.5254 - val_tensor_distance_mae: 4299.9097\n",
      "Epoch 17/30\n",
      "95/95 [==============================] - 0s 891us/step - loss: 4292.1128 - tensor_distance_mae: 4292.1128 - val_loss: 4256.4536 - val_tensor_distance_mae: 4253.0049\n",
      "Epoch 18/30\n",
      "95/95 [==============================] - 0s 878us/step - loss: 4293.3271 - tensor_distance_mae: 4293.3271 - val_loss: 4255.3901 - val_tensor_distance_mae: 4252.2896\n",
      "Epoch 19/30\n",
      "95/95 [==============================] - 0s 873us/step - loss: 4281.7305 - tensor_distance_mae: 4281.7305 - val_loss: 4260.0469 - val_tensor_distance_mae: 4257.4097\n",
      "Epoch 20/30\n",
      "95/95 [==============================] - 0s 834us/step - loss: 4274.9390 - tensor_distance_mae: 4274.9390 - val_loss: 4254.5547 - val_tensor_distance_mae: 4252.1309\n",
      "Epoch 21/30\n",
      "95/95 [==============================] - 0s 812us/step - loss: 4265.9106 - tensor_distance_mae: 4265.9106 - val_loss: 4332.0757 - val_tensor_distance_mae: 4331.1016\n",
      "Epoch 22/30\n",
      "95/95 [==============================] - 0s 888us/step - loss: 4276.7227 - tensor_distance_mae: 4276.7227 - val_loss: 4304.3403 - val_tensor_distance_mae: 4302.9043\n",
      "Epoch 23/30\n",
      "95/95 [==============================] - 0s 911us/step - loss: 4272.4609 - tensor_distance_mae: 4272.4609 - val_loss: 4264.0649 - val_tensor_distance_mae: 4262.3345\n",
      "Epoch 24/30\n",
      "95/95 [==============================] - 0s 1ms/step - loss: 4258.8364 - tensor_distance_mae: 4258.8364 - val_loss: 4238.2261 - val_tensor_distance_mae: 4236.2505\n",
      "Epoch 25/30\n",
      "95/95 [==============================] - 0s 1ms/step - loss: 4256.3350 - tensor_distance_mae: 4256.3350 - val_loss: 4248.3916 - val_tensor_distance_mae: 4246.8247\n",
      "Epoch 26/30\n",
      "95/95 [==============================] - 0s 898us/step - loss: 4255.3110 - tensor_distance_mae: 4255.3110 - val_loss: 4243.6177 - val_tensor_distance_mae: 4242.0928\n",
      "Epoch 27/30\n",
      "95/95 [==============================] - 0s 876us/step - loss: 4248.1543 - tensor_distance_mae: 4248.1543 - val_loss: 4254.6987 - val_tensor_distance_mae: 4253.5356\n",
      "Epoch 28/30\n",
      "95/95 [==============================] - 0s 849us/step - loss: 4252.2842 - tensor_distance_mae: 4252.2842 - val_loss: 4235.1514 - val_tensor_distance_mae: 4233.7056\n",
      "Epoch 29/30\n",
      "95/95 [==============================] - 0s 859us/step - loss: 4247.4995 - tensor_distance_mae: 4247.4995 - val_loss: 4226.5874 - val_tensor_distance_mae: 4224.8984\n",
      "Epoch 30/30\n",
      "95/95 [==============================] - 0s 833us/step - loss: 4242.6772 - tensor_distance_mae: 4242.6772 - val_loss: 4251.6636 - val_tensor_distance_mae: 4250.8101\n"
     ]
    },
    {
     "data": {
      "text/plain": [
       "<tensorflow.python.keras.callbacks.History at 0x7ff878ec8bd0>"
      ]
     },
     "execution_count": 91,
     "metadata": {},
     "output_type": "execute_result"
    }
   ],
   "source": [
    "linear.fit(x=train[1][0],\n",
    "           y=train[1][1],\n",
    "           batch_size=32,\n",
    "           epochs=30,\n",
    "           verbose=1,\n",
    "           validation_data=val[1]\n",
    "          )"
   ]
  },
  {
   "cell_type": "code",
   "execution_count": 92,
   "metadata": {
    "scrolled": true
   },
   "outputs": [
    {
     "name": "stdout",
     "output_type": "stream",
     "text": [
      "Epoch 1/30\n",
      " 1/95 [..............................] - ETA: 0s - loss: 10648.0762 - tensor_distance_mae: 10648.0762WARNING:tensorflow:Callbacks method `on_train_batch_end` is slow compared to the batch time (batch time: 0.0011s vs `on_train_batch_end` time: 0.0016s). Check your callbacks.\n",
      "95/95 [==============================] - 0s 3ms/step - loss: 4834.3633 - tensor_distance_mae: 4834.3633 - val_loss: 4298.4917 - val_tensor_distance_mae: 4296.8413\n",
      "Epoch 2/30\n",
      "95/95 [==============================] - 0s 985us/step - loss: 4263.2568 - tensor_distance_mae: 4263.2568 - val_loss: 4243.3662 - val_tensor_distance_mae: 4241.4487\n",
      "Epoch 3/30\n",
      "95/95 [==============================] - 0s 957us/step - loss: 4213.0298 - tensor_distance_mae: 4213.0298 - val_loss: 4165.1572 - val_tensor_distance_mae: 4163.1064\n",
      "Epoch 4/30\n",
      "95/95 [==============================] - 0s 1ms/step - loss: 4174.6680 - tensor_distance_mae: 4174.6680 - val_loss: 4257.6396 - val_tensor_distance_mae: 4255.8618\n",
      "Epoch 5/30\n",
      "95/95 [==============================] - 0s 965us/step - loss: 4144.6875 - tensor_distance_mae: 4144.6875 - val_loss: 4211.1011 - val_tensor_distance_mae: 4209.3711\n",
      "Epoch 6/30\n",
      "95/95 [==============================] - 0s 1ms/step - loss: 4129.1235 - tensor_distance_mae: 4129.1235 - val_loss: 4142.8447 - val_tensor_distance_mae: 4140.6997\n",
      "Epoch 7/30\n",
      "95/95 [==============================] - 0s 943us/step - loss: 4107.9307 - tensor_distance_mae: 4107.9307 - val_loss: 4154.3901 - val_tensor_distance_mae: 4152.2881\n",
      "Epoch 8/30\n",
      "95/95 [==============================] - 0s 994us/step - loss: 4091.2063 - tensor_distance_mae: 4091.2063 - val_loss: 4169.3560 - val_tensor_distance_mae: 4167.2026\n",
      "Epoch 9/30\n",
      "95/95 [==============================] - 0s 1ms/step - loss: 4071.3713 - tensor_distance_mae: 4071.3713 - val_loss: 4187.9663 - val_tensor_distance_mae: 4185.3745\n",
      "Epoch 10/30\n",
      "95/95 [==============================] - 0s 2ms/step - loss: 4035.5046 - tensor_distance_mae: 4035.5046 - val_loss: 4233.9229 - val_tensor_distance_mae: 4231.9321\n",
      "Epoch 11/30\n",
      "95/95 [==============================] - 0s 2ms/step - loss: 4047.0085 - tensor_distance_mae: 4047.0085 - val_loss: 4251.5342 - val_tensor_distance_mae: 4249.4604\n",
      "Epoch 12/30\n",
      "95/95 [==============================] - 0s 1ms/step - loss: 4020.8210 - tensor_distance_mae: 4020.8210 - val_loss: 4176.0884 - val_tensor_distance_mae: 4172.5415\n",
      "Epoch 13/30\n",
      "95/95 [==============================] - 0s 1ms/step - loss: 4007.9675 - tensor_distance_mae: 4007.9675 - val_loss: 4172.9170 - val_tensor_distance_mae: 4170.7402\n",
      "Epoch 14/30\n",
      "95/95 [==============================] - 0s 2ms/step - loss: 3987.3928 - tensor_distance_mae: 3987.3928 - val_loss: 4240.0850 - val_tensor_distance_mae: 4238.0625\n",
      "Epoch 15/30\n",
      "95/95 [==============================] - 0s 2ms/step - loss: 3960.9226 - tensor_distance_mae: 3960.9226 - val_loss: 4241.3403 - val_tensor_distance_mae: 4240.7974\n",
      "Epoch 16/30\n",
      "95/95 [==============================] - 0s 1ms/step - loss: 3925.8560 - tensor_distance_mae: 3925.8560 - val_loss: 4281.7505 - val_tensor_distance_mae: 4279.3179\n",
      "Epoch 17/30\n",
      "95/95 [==============================] - 0s 964us/step - loss: 3938.0808 - tensor_distance_mae: 3938.0808 - val_loss: 4235.8955 - val_tensor_distance_mae: 4233.1431\n",
      "Epoch 18/30\n",
      "95/95 [==============================] - 0s 944us/step - loss: 3918.6582 - tensor_distance_mae: 3918.6582 - val_loss: 4270.0137 - val_tensor_distance_mae: 4270.0293\n",
      "Epoch 19/30\n",
      "95/95 [==============================] - 0s 1ms/step - loss: 3893.7861 - tensor_distance_mae: 3893.7861 - val_loss: 4184.4048 - val_tensor_distance_mae: 4183.4355\n",
      "Epoch 20/30\n",
      "95/95 [==============================] - 0s 971us/step - loss: 3865.4688 - tensor_distance_mae: 3865.4688 - val_loss: 4241.8794 - val_tensor_distance_mae: 4240.9614\n",
      "Epoch 21/30\n",
      "95/95 [==============================] - 0s 953us/step - loss: 3857.7300 - tensor_distance_mae: 3857.7300 - val_loss: 4310.7998 - val_tensor_distance_mae: 4310.3921\n",
      "Epoch 22/30\n",
      "95/95 [==============================] - 0s 973us/step - loss: 3849.9897 - tensor_distance_mae: 3849.9897 - val_loss: 4229.8188 - val_tensor_distance_mae: 4229.7734\n",
      "Epoch 23/30\n",
      "95/95 [==============================] - 0s 958us/step - loss: 3819.2461 - tensor_distance_mae: 3819.2461 - val_loss: 4207.6123 - val_tensor_distance_mae: 4206.2856\n",
      "Epoch 24/30\n",
      "95/95 [==============================] - 0s 964us/step - loss: 3790.4321 - tensor_distance_mae: 3790.4321 - val_loss: 4278.9473 - val_tensor_distance_mae: 4278.5439\n",
      "Epoch 25/30\n",
      "95/95 [==============================] - 0s 1ms/step - loss: 3773.4214 - tensor_distance_mae: 3773.4214 - val_loss: 4278.3442 - val_tensor_distance_mae: 4278.8726\n",
      "Epoch 26/30\n",
      "95/95 [==============================] - 0s 2ms/step - loss: 3765.0957 - tensor_distance_mae: 3765.0957 - val_loss: 4288.9321 - val_tensor_distance_mae: 4287.1372\n",
      "Epoch 27/30\n",
      "95/95 [==============================] - 0s 1ms/step - loss: 3741.9978 - tensor_distance_mae: 3741.9978 - val_loss: 4188.7080 - val_tensor_distance_mae: 4187.2700\n",
      "Epoch 28/30\n",
      "95/95 [==============================] - 0s 1ms/step - loss: 3724.7017 - tensor_distance_mae: 3724.7017 - val_loss: 4237.2065 - val_tensor_distance_mae: 4237.4990\n",
      "Epoch 29/30\n",
      "95/95 [==============================] - 0s 930us/step - loss: 3708.6089 - tensor_distance_mae: 3708.6089 - val_loss: 4257.9785 - val_tensor_distance_mae: 4257.1738\n",
      "Epoch 30/30\n",
      "95/95 [==============================] - 0s 1ms/step - loss: 3676.9780 - tensor_distance_mae: 3676.9780 - val_loss: 4282.3965 - val_tensor_distance_mae: 4282.3638\n"
     ]
    },
    {
     "data": {
      "text/plain": [
       "<tensorflow.python.keras.callbacks.History at 0x7ff876570710>"
      ]
     },
     "execution_count": 92,
     "metadata": {},
     "output_type": "execute_result"
    }
   ],
   "source": [
    "dense.fit(x=train[1][0],\n",
    "           y=train[1][1],\n",
    "           batch_size=32,\n",
    "           epochs=30,\n",
    "           verbose=1,\n",
    "           validation_data=val[1]\n",
    "          )"
   ]
  },
  {
   "cell_type": "code",
   "execution_count": 93,
   "metadata": {
    "scrolled": true
   },
   "outputs": [
    {
     "name": "stdout",
     "output_type": "stream",
     "text": [
      "Epoch 1/30\n",
      "80/80 [==============================] - 0s 2ms/step - loss: 5261.2334 - tensor_distance_mae: 5261.2334 - val_loss: 4371.8691 - val_tensor_distance_mae: 4371.8691\n",
      "Epoch 2/30\n",
      "80/80 [==============================] - 0s 970us/step - loss: 4392.8027 - tensor_distance_mae: 4392.8027 - val_loss: 4244.6240 - val_tensor_distance_mae: 4244.6240\n",
      "Epoch 3/30\n",
      "80/80 [==============================] - 0s 1ms/step - loss: 4309.8384 - tensor_distance_mae: 4309.8384 - val_loss: 4165.2197 - val_tensor_distance_mae: 4165.2197\n",
      "Epoch 4/30\n",
      "80/80 [==============================] - 0s 959us/step - loss: 4260.9307 - tensor_distance_mae: 4260.9307 - val_loss: 4219.8545 - val_tensor_distance_mae: 4219.8545\n",
      "Epoch 5/30\n",
      "80/80 [==============================] - 0s 966us/step - loss: 4236.4214 - tensor_distance_mae: 4236.4214 - val_loss: 4149.7656 - val_tensor_distance_mae: 4149.7656\n",
      "Epoch 6/30\n",
      "80/80 [==============================] - 0s 973us/step - loss: 4216.5151 - tensor_distance_mae: 4216.5151 - val_loss: 4220.4019 - val_tensor_distance_mae: 4220.4019\n",
      "Epoch 7/30\n",
      "80/80 [==============================] - 0s 961us/step - loss: 4173.2017 - tensor_distance_mae: 4173.2017 - val_loss: 4135.1069 - val_tensor_distance_mae: 4135.1069\n",
      "Epoch 8/30\n",
      "80/80 [==============================] - 0s 1ms/step - loss: 4159.2969 - tensor_distance_mae: 4159.2969 - val_loss: 4137.3931 - val_tensor_distance_mae: 4137.3931\n",
      "Epoch 9/30\n",
      "80/80 [==============================] - 0s 1ms/step - loss: 4131.5972 - tensor_distance_mae: 4131.5972 - val_loss: 4169.0151 - val_tensor_distance_mae: 4169.0151\n",
      "Epoch 10/30\n",
      "80/80 [==============================] - 0s 1ms/step - loss: 4113.0537 - tensor_distance_mae: 4113.0537 - val_loss: 4159.1914 - val_tensor_distance_mae: 4159.1914\n",
      "Epoch 11/30\n",
      "80/80 [==============================] - 0s 1ms/step - loss: 4078.3081 - tensor_distance_mae: 4078.3081 - val_loss: 4151.2939 - val_tensor_distance_mae: 4151.2939\n",
      "Epoch 12/30\n",
      "80/80 [==============================] - 0s 1ms/step - loss: 4041.1165 - tensor_distance_mae: 4041.1165 - val_loss: 4113.4180 - val_tensor_distance_mae: 4113.4180\n",
      "Epoch 13/30\n",
      "80/80 [==============================] - 0s 2ms/step - loss: 4031.6504 - tensor_distance_mae: 4031.6504 - val_loss: 4126.3472 - val_tensor_distance_mae: 4126.3472\n",
      "Epoch 14/30\n",
      "80/80 [==============================] - 0s 2ms/step - loss: 4039.2603 - tensor_distance_mae: 4039.2603 - val_loss: 4142.7153 - val_tensor_distance_mae: 4142.7153\n",
      "Epoch 15/30\n",
      "80/80 [==============================] - 0s 2ms/step - loss: 4034.4771 - tensor_distance_mae: 4034.4771 - val_loss: 4132.1255 - val_tensor_distance_mae: 4132.1255\n",
      "Epoch 16/30\n",
      "80/80 [==============================] - 0s 4ms/step - loss: 3993.9114 - tensor_distance_mae: 3993.9114 - val_loss: 4267.2881 - val_tensor_distance_mae: 4267.2881\n",
      "Epoch 17/30\n",
      "80/80 [==============================] - 0s 3ms/step - loss: 3968.1770 - tensor_distance_mae: 3968.1770 - val_loss: 4165.6025 - val_tensor_distance_mae: 4165.6025\n",
      "Epoch 18/30\n",
      "80/80 [==============================] - 0s 2ms/step - loss: 3962.3184 - tensor_distance_mae: 3962.3184 - val_loss: 4198.3623 - val_tensor_distance_mae: 4198.3623\n",
      "Epoch 19/30\n",
      "80/80 [==============================] - 0s 2ms/step - loss: 3932.8367 - tensor_distance_mae: 3932.8367 - val_loss: 4175.7856 - val_tensor_distance_mae: 4175.7856\n",
      "Epoch 20/30\n",
      "80/80 [==============================] - 0s 1ms/step - loss: 3914.1797 - tensor_distance_mae: 3914.1797 - val_loss: 4120.4951 - val_tensor_distance_mae: 4120.4951\n",
      "Epoch 21/30\n",
      "80/80 [==============================] - 0s 3ms/step - loss: 3894.9917 - tensor_distance_mae: 3894.9917 - val_loss: 4161.3960 - val_tensor_distance_mae: 4161.3960\n",
      "Epoch 22/30\n",
      "80/80 [==============================] - 0s 3ms/step - loss: 3861.3784 - tensor_distance_mae: 3861.3784 - val_loss: 4139.3975 - val_tensor_distance_mae: 4139.3975\n",
      "Epoch 23/30\n",
      "80/80 [==============================] - 0s 3ms/step - loss: 3847.4556 - tensor_distance_mae: 3847.4556 - val_loss: 4173.2949 - val_tensor_distance_mae: 4173.2949\n",
      "Epoch 24/30\n",
      "80/80 [==============================] - 0s 3ms/step - loss: 3853.1575 - tensor_distance_mae: 3853.1575 - val_loss: 4200.3354 - val_tensor_distance_mae: 4200.3354\n",
      "Epoch 25/30\n",
      "80/80 [==============================] - 0s 4ms/step - loss: 3836.4875 - tensor_distance_mae: 3836.4875 - val_loss: 4225.7876 - val_tensor_distance_mae: 4225.7876\n",
      "Epoch 26/30\n",
      "80/80 [==============================] - 0s 6ms/step - loss: 3819.6555 - tensor_distance_mae: 3819.6555 - val_loss: 4222.1514 - val_tensor_distance_mae: 4222.1514\n",
      "Epoch 27/30\n",
      "80/80 [==============================] - 0s 2ms/step - loss: 3764.9558 - tensor_distance_mae: 3764.9558 - val_loss: 4194.6763 - val_tensor_distance_mae: 4194.6763\n",
      "Epoch 28/30\n",
      "80/80 [==============================] - 0s 4ms/step - loss: 3746.8589 - tensor_distance_mae: 3746.8589 - val_loss: 4245.0073 - val_tensor_distance_mae: 4245.0073\n",
      "Epoch 29/30\n",
      "80/80 [==============================] - 0s 4ms/step - loss: 3749.0996 - tensor_distance_mae: 3749.0996 - val_loss: 4246.0796 - val_tensor_distance_mae: 4246.0796\n",
      "Epoch 30/30\n",
      "80/80 [==============================] - 0s 3ms/step - loss: 3726.1606 - tensor_distance_mae: 3726.1606 - val_loss: 4265.9473 - val_tensor_distance_mae: 4265.9473\n",
      "Epoch 1/30\n",
      "90/90 [==============================] - 0s 3ms/step - loss: 4671.4751 - tensor_distance_mae: 4671.4751 - val_loss: 4221.8569 - val_tensor_distance_mae: 4250.9507\n",
      "Epoch 2/30\n",
      "90/90 [==============================] - 0s 1ms/step - loss: 4288.3242 - tensor_distance_mae: 4288.3242 - val_loss: 4153.3711 - val_tensor_distance_mae: 4189.7964\n",
      "Epoch 3/30\n",
      "90/90 [==============================] - 0s 2ms/step - loss: 4211.9756 - tensor_distance_mae: 4211.9756 - val_loss: 4168.2056 - val_tensor_distance_mae: 4204.5103\n",
      "Epoch 4/30\n",
      "90/90 [==============================] - 0s 1ms/step - loss: 4190.2036 - tensor_distance_mae: 4190.2036 - val_loss: 4141.5000 - val_tensor_distance_mae: 4162.5161\n",
      "Epoch 5/30\n",
      "90/90 [==============================] - 0s 2ms/step - loss: 4171.9214 - tensor_distance_mae: 4171.9214 - val_loss: 4178.9814 - val_tensor_distance_mae: 4222.5073\n",
      "Epoch 6/30\n",
      "90/90 [==============================] - 0s 1ms/step - loss: 4126.6523 - tensor_distance_mae: 4126.6523 - val_loss: 4125.2173 - val_tensor_distance_mae: 4165.9126\n",
      "Epoch 7/30\n",
      "90/90 [==============================] - 0s 2ms/step - loss: 4102.8496 - tensor_distance_mae: 4102.8496 - val_loss: 4114.3994 - val_tensor_distance_mae: 4154.7710\n",
      "Epoch 8/30\n",
      "90/90 [==============================] - 0s 2ms/step - loss: 4102.8574 - tensor_distance_mae: 4102.8574 - val_loss: 4145.1978 - val_tensor_distance_mae: 4194.9517\n",
      "Epoch 9/30\n",
      "90/90 [==============================] - 0s 4ms/step - loss: 4074.0608 - tensor_distance_mae: 4074.0608 - val_loss: 4110.7178 - val_tensor_distance_mae: 4154.6699\n",
      "Epoch 10/30\n",
      "90/90 [==============================] - 0s 3ms/step - loss: 4076.9163 - tensor_distance_mae: 4076.9163 - val_loss: 4120.5186 - val_tensor_distance_mae: 4170.7690\n",
      "Epoch 11/30\n",
      "90/90 [==============================] - 0s 2ms/step - loss: 4044.4263 - tensor_distance_mae: 4044.4263 - val_loss: 4138.7100 - val_tensor_distance_mae: 4196.3306\n",
      "Epoch 12/30\n",
      "90/90 [==============================] - 0s 2ms/step - loss: 4037.1919 - tensor_distance_mae: 4037.1919 - val_loss: 4150.5488 - val_tensor_distance_mae: 4183.1377\n",
      "Epoch 13/30\n",
      "90/90 [==============================] - 0s 2ms/step - loss: 4022.9639 - tensor_distance_mae: 4022.9639 - val_loss: 4175.7661 - val_tensor_distance_mae: 4222.9058\n",
      "Epoch 14/30\n",
      "90/90 [==============================] - 0s 2ms/step - loss: 4007.2119 - tensor_distance_mae: 4007.2119 - val_loss: 4111.6089 - val_tensor_distance_mae: 4162.0098\n",
      "Epoch 15/30\n",
      "90/90 [==============================] - 0s 2ms/step - loss: 3986.6301 - tensor_distance_mae: 3986.6301 - val_loss: 4167.9165 - val_tensor_distance_mae: 4202.8511\n",
      "Epoch 16/30\n",
      "90/90 [==============================] - 0s 1ms/step - loss: 3977.8052 - tensor_distance_mae: 3977.8052 - val_loss: 4290.2422 - val_tensor_distance_mae: 4368.5278\n",
      "Epoch 17/30\n",
      "90/90 [==============================] - 0s 2ms/step - loss: 3961.2329 - tensor_distance_mae: 3961.2329 - val_loss: 4109.5791 - val_tensor_distance_mae: 4149.0698\n"
     ]
    },
    {
     "name": "stdout",
     "output_type": "stream",
     "text": [
      "Epoch 18/30\n",
      "90/90 [==============================] - 0s 1ms/step - loss: 3969.6958 - tensor_distance_mae: 3969.6958 - val_loss: 4124.8359 - val_tensor_distance_mae: 4177.4775\n",
      "Epoch 19/30\n",
      "90/90 [==============================] - 0s 1ms/step - loss: 3928.1958 - tensor_distance_mae: 3928.1958 - val_loss: 4115.0859 - val_tensor_distance_mae: 4164.4019\n",
      "Epoch 20/30\n",
      "90/90 [==============================] - 0s 2ms/step - loss: 3925.6523 - tensor_distance_mae: 3925.6523 - val_loss: 4088.4714 - val_tensor_distance_mae: 4142.7241\n",
      "Epoch 21/30\n",
      "90/90 [==============================] - 0s 1ms/step - loss: 3933.2971 - tensor_distance_mae: 3933.2971 - val_loss: 4091.7771 - val_tensor_distance_mae: 4135.7148\n",
      "Epoch 22/30\n",
      "90/90 [==============================] - 0s 1ms/step - loss: 3894.1982 - tensor_distance_mae: 3894.1982 - val_loss: 4090.5994 - val_tensor_distance_mae: 4139.4761\n",
      "Epoch 23/30\n",
      "90/90 [==============================] - 0s 1ms/step - loss: 3898.3767 - tensor_distance_mae: 3898.3767 - val_loss: 4158.6016 - val_tensor_distance_mae: 4203.4204\n",
      "Epoch 24/30\n",
      "90/90 [==============================] - 0s 1ms/step - loss: 3886.5022 - tensor_distance_mae: 3886.5022 - val_loss: 4176.1611 - val_tensor_distance_mae: 4234.5605\n",
      "Epoch 25/30\n",
      "90/90 [==============================] - 0s 1ms/step - loss: 3889.2930 - tensor_distance_mae: 3889.2930 - val_loss: 4132.3711 - val_tensor_distance_mae: 4190.1196\n",
      "Epoch 26/30\n",
      "90/90 [==============================] - 0s 2ms/step - loss: 3856.2678 - tensor_distance_mae: 3856.2678 - val_loss: 4159.9116 - val_tensor_distance_mae: 4189.0332\n",
      "Epoch 27/30\n",
      "90/90 [==============================] - 0s 1ms/step - loss: 3852.7583 - tensor_distance_mae: 3852.7583 - val_loss: 4089.3855 - val_tensor_distance_mae: 4132.8579\n",
      "Epoch 28/30\n",
      "90/90 [==============================] - 0s 1ms/step - loss: 3848.9919 - tensor_distance_mae: 3848.9919 - val_loss: 4138.1460 - val_tensor_distance_mae: 4201.2563\n",
      "Epoch 29/30\n",
      "90/90 [==============================] - 0s 2ms/step - loss: 3820.6851 - tensor_distance_mae: 3820.6851 - val_loss: 4124.6245 - val_tensor_distance_mae: 4185.5962\n",
      "Epoch 30/30\n",
      "90/90 [==============================] - 0s 1ms/step - loss: 3808.0222 - tensor_distance_mae: 3808.0222 - val_loss: 4193.8145 - val_tensor_distance_mae: 4319.2354\n",
      "Epoch 1/30\n",
      "85/85 [==============================] - 0s 4ms/step - loss: 5089.1353 - tensor_distance_mae: 5089.1353 - val_loss: 4280.0864 - val_tensor_distance_mae: 4282.3452\n",
      "Epoch 2/30\n",
      "85/85 [==============================] - 0s 2ms/step - loss: 4329.8433 - tensor_distance_mae: 4329.8433 - val_loss: 4249.5200 - val_tensor_distance_mae: 4248.7114\n",
      "Epoch 3/30\n",
      "85/85 [==============================] - 0s 1ms/step - loss: 4277.5454 - tensor_distance_mae: 4277.5454 - val_loss: 4168.4990 - val_tensor_distance_mae: 4163.1396\n",
      "Epoch 4/30\n",
      "85/85 [==============================] - 0s 1ms/step - loss: 4236.2900 - tensor_distance_mae: 4236.2900 - val_loss: 4149.0347 - val_tensor_distance_mae: 4142.8301\n",
      "Epoch 5/30\n",
      "85/85 [==============================] - 0s 1ms/step - loss: 4223.5312 - tensor_distance_mae: 4223.5312 - val_loss: 4134.7583 - val_tensor_distance_mae: 4128.3457\n",
      "Epoch 6/30\n",
      "85/85 [==============================] - 0s 1ms/step - loss: 4182.8750 - tensor_distance_mae: 4182.8750 - val_loss: 4160.5483 - val_tensor_distance_mae: 4153.4263\n",
      "Epoch 7/30\n",
      "85/85 [==============================] - 0s 1ms/step - loss: 4182.0454 - tensor_distance_mae: 4182.0454 - val_loss: 4107.2031 - val_tensor_distance_mae: 4099.0659\n",
      "Epoch 8/30\n",
      "85/85 [==============================] - 0s 1ms/step - loss: 4142.7998 - tensor_distance_mae: 4142.7998 - val_loss: 4136.2729 - val_tensor_distance_mae: 4130.4370\n",
      "Epoch 9/30\n",
      "85/85 [==============================] - 0s 2ms/step - loss: 4135.0146 - tensor_distance_mae: 4135.0146 - val_loss: 4135.9058 - val_tensor_distance_mae: 4129.6763\n",
      "Epoch 10/30\n",
      "85/85 [==============================] - 0s 1ms/step - loss: 4116.5571 - tensor_distance_mae: 4116.5571 - val_loss: 4124.5762 - val_tensor_distance_mae: 4116.2026\n",
      "Epoch 11/30\n",
      "85/85 [==============================] - 0s 1ms/step - loss: 4105.8755 - tensor_distance_mae: 4105.8755 - val_loss: 4135.8252 - val_tensor_distance_mae: 4127.2012\n",
      "Epoch 12/30\n",
      "85/85 [==============================] - 0s 1ms/step - loss: 4114.8521 - tensor_distance_mae: 4114.8521 - val_loss: 4228.8799 - val_tensor_distance_mae: 4223.0337\n",
      "Epoch 13/30\n",
      "85/85 [==============================] - 0s 1ms/step - loss: 4067.1299 - tensor_distance_mae: 4067.1299 - val_loss: 4162.8608 - val_tensor_distance_mae: 4154.0435\n",
      "Epoch 14/30\n",
      "85/85 [==============================] - 0s 1ms/step - loss: 4061.8218 - tensor_distance_mae: 4061.8218 - val_loss: 4171.5464 - val_tensor_distance_mae: 4163.3828\n",
      "Epoch 15/30\n",
      "85/85 [==============================] - 0s 1ms/step - loss: 4032.9492 - tensor_distance_mae: 4032.9492 - val_loss: 4110.3135 - val_tensor_distance_mae: 4098.9688\n",
      "Epoch 16/30\n",
      "85/85 [==============================] - 0s 1ms/step - loss: 4050.0378 - tensor_distance_mae: 4050.0378 - val_loss: 4129.0430 - val_tensor_distance_mae: 4120.1279\n",
      "Epoch 17/30\n",
      "85/85 [==============================] - 0s 1ms/step - loss: 4032.0452 - tensor_distance_mae: 4032.0452 - val_loss: 4133.6211 - val_tensor_distance_mae: 4125.8984\n",
      "Epoch 18/30\n",
      "85/85 [==============================] - 0s 2ms/step - loss: 3990.6963 - tensor_distance_mae: 3990.6963 - val_loss: 4130.6572 - val_tensor_distance_mae: 4122.7988\n",
      "Epoch 19/30\n",
      "85/85 [==============================] - 0s 2ms/step - loss: 3980.7922 - tensor_distance_mae: 3980.7922 - val_loss: 4201.6387 - val_tensor_distance_mae: 4196.2661\n",
      "Epoch 20/30\n",
      "85/85 [==============================] - 0s 1ms/step - loss: 3957.3909 - tensor_distance_mae: 3957.3909 - val_loss: 4147.4268 - val_tensor_distance_mae: 4139.2578\n",
      "Epoch 21/30\n",
      "85/85 [==============================] - 0s 2ms/step - loss: 3944.3088 - tensor_distance_mae: 3944.3088 - val_loss: 4162.2026 - val_tensor_distance_mae: 4156.9956\n",
      "Epoch 22/30\n",
      "85/85 [==============================] - 0s 1ms/step - loss: 3937.7183 - tensor_distance_mae: 3937.7183 - val_loss: 4092.2898 - val_tensor_distance_mae: 4083.3201\n",
      "Epoch 23/30\n",
      "85/85 [==============================] - 0s 1ms/step - loss: 3942.1514 - tensor_distance_mae: 3942.1514 - val_loss: 4171.3682 - val_tensor_distance_mae: 4163.4155\n",
      "Epoch 24/30\n",
      "85/85 [==============================] - 0s 1ms/step - loss: 3901.2573 - tensor_distance_mae: 3901.2573 - val_loss: 4149.0181 - val_tensor_distance_mae: 4138.5195\n",
      "Epoch 25/30\n",
      "85/85 [==============================] - 0s 2ms/step - loss: 3930.5515 - tensor_distance_mae: 3930.5515 - val_loss: 4179.5586 - val_tensor_distance_mae: 4171.9185\n",
      "Epoch 26/30\n",
      "85/85 [==============================] - 0s 1ms/step - loss: 3888.9363 - tensor_distance_mae: 3888.9363 - val_loss: 4165.5342 - val_tensor_distance_mae: 4156.3071\n",
      "Epoch 27/30\n",
      "85/85 [==============================] - 0s 3ms/step - loss: 3865.8486 - tensor_distance_mae: 3865.8486 - val_loss: 4241.8428 - val_tensor_distance_mae: 4232.6909\n",
      "Epoch 28/30\n",
      "85/85 [==============================] - 0s 1ms/step - loss: 3838.3547 - tensor_distance_mae: 3838.3547 - val_loss: 4173.4609 - val_tensor_distance_mae: 4167.4927\n",
      "Epoch 29/30\n",
      "85/85 [==============================] - 0s 2ms/step - loss: 3828.4058 - tensor_distance_mae: 3828.4058 - val_loss: 4163.8843 - val_tensor_distance_mae: 4158.5474\n",
      "Epoch 30/30\n",
      "85/85 [==============================] - 0s 2ms/step - loss: 3833.3967 - tensor_distance_mae: 3833.3967 - val_loss: 4216.1284 - val_tensor_distance_mae: 4212.5620\n"
     ]
    }
   ],
   "source": [
    "for width in multi_dense_models.keys():\n",
    "    multi_dense_models[width].fit(x=train[width][0],\n",
    "           y=train[width][1],\n",
    "           batch_size=32,\n",
    "           epochs=30,\n",
    "           verbose=1,\n",
    "           validation_data=val[width]\n",
    "          )"
   ]
  },
  {
   "cell_type": "code",
   "execution_count": 94,
   "metadata": {
    "scrolled": true
   },
   "outputs": [
    {
     "name": "stdout",
     "output_type": "stream",
     "text": [
      "Epoch 1/30\n",
      "80/80 [==============================] - 0s 3ms/step - loss: 4803.2334 - tensor_distance_mae: 4803.2334 - val_loss: 4244.9189 - val_tensor_distance_mae: 4244.9189\n",
      "Epoch 2/30\n",
      "80/80 [==============================] - 0s 2ms/step - loss: 4329.4126 - tensor_distance_mae: 4329.4126 - val_loss: 4202.4385 - val_tensor_distance_mae: 4202.4385\n",
      "Epoch 3/30\n",
      "80/80 [==============================] - 0s 3ms/step - loss: 4278.9102 - tensor_distance_mae: 4278.9102 - val_loss: 4107.6919 - val_tensor_distance_mae: 4107.6919\n",
      "Epoch 4/30\n",
      "80/80 [==============================] - 0s 2ms/step - loss: 4249.4326 - tensor_distance_mae: 4249.4326 - val_loss: 4173.0288 - val_tensor_distance_mae: 4173.0288\n",
      "Epoch 5/30\n",
      "80/80 [==============================] - 0s 2ms/step - loss: 4220.8037 - tensor_distance_mae: 4220.8037 - val_loss: 4073.8066 - val_tensor_distance_mae: 4073.8066\n",
      "Epoch 6/30\n",
      "80/80 [==============================] - 0s 1ms/step - loss: 4205.2822 - tensor_distance_mae: 4205.2822 - val_loss: 4075.4644 - val_tensor_distance_mae: 4075.4644\n",
      "Epoch 7/30\n",
      "80/80 [==============================] - 0s 3ms/step - loss: 4157.9038 - tensor_distance_mae: 4157.9038 - val_loss: 4078.8777 - val_tensor_distance_mae: 4078.8777\n",
      "Epoch 8/30\n",
      "80/80 [==============================] - 0s 1ms/step - loss: 4152.6401 - tensor_distance_mae: 4152.6401 - val_loss: 4156.7236 - val_tensor_distance_mae: 4156.7236\n",
      "Epoch 9/30\n",
      "80/80 [==============================] - 0s 1ms/step - loss: 4113.1177 - tensor_distance_mae: 4113.1177 - val_loss: 4263.8770 - val_tensor_distance_mae: 4263.8770\n",
      "Epoch 10/30\n",
      "80/80 [==============================] - 0s 1ms/step - loss: 4099.4111 - tensor_distance_mae: 4099.4111 - val_loss: 4101.3608 - val_tensor_distance_mae: 4101.3608\n",
      "Epoch 11/30\n",
      "80/80 [==============================] - 0s 1ms/step - loss: 4064.9414 - tensor_distance_mae: 4064.9414 - val_loss: 4142.8945 - val_tensor_distance_mae: 4142.8945\n",
      "Epoch 12/30\n",
      "80/80 [==============================] - 0s 1ms/step - loss: 4072.2883 - tensor_distance_mae: 4072.2883 - val_loss: 4161.9341 - val_tensor_distance_mae: 4161.9341\n",
      "Epoch 13/30\n",
      "80/80 [==============================] - 0s 1ms/step - loss: 4024.6223 - tensor_distance_mae: 4024.6223 - val_loss: 4100.6567 - val_tensor_distance_mae: 4100.6567\n",
      "Epoch 14/30\n",
      "80/80 [==============================] - 0s 1ms/step - loss: 4057.5737 - tensor_distance_mae: 4057.5737 - val_loss: 4165.2007 - val_tensor_distance_mae: 4165.2007\n",
      "Epoch 15/30\n",
      "80/80 [==============================] - 0s 1ms/step - loss: 4002.3516 - tensor_distance_mae: 4002.3516 - val_loss: 4113.4014 - val_tensor_distance_mae: 4113.4014\n",
      "Epoch 16/30\n",
      "80/80 [==============================] - 0s 1ms/step - loss: 3997.3242 - tensor_distance_mae: 3997.3242 - val_loss: 4105.4424 - val_tensor_distance_mae: 4105.4424\n",
      "Epoch 17/30\n",
      "80/80 [==============================] - 0s 1ms/step - loss: 3971.5305 - tensor_distance_mae: 3971.5305 - val_loss: 4110.9185 - val_tensor_distance_mae: 4110.9185\n",
      "Epoch 18/30\n",
      "80/80 [==============================] - 0s 1ms/step - loss: 3970.2976 - tensor_distance_mae: 3970.2976 - val_loss: 4131.4048 - val_tensor_distance_mae: 4131.4048\n",
      "Epoch 19/30\n",
      "80/80 [==============================] - 0s 4ms/step - loss: 3948.1458 - tensor_distance_mae: 3948.1458 - val_loss: 4158.1201 - val_tensor_distance_mae: 4158.1201\n",
      "Epoch 20/30\n",
      "80/80 [==============================] - 0s 2ms/step - loss: 3928.5034 - tensor_distance_mae: 3928.5034 - val_loss: 4145.2017 - val_tensor_distance_mae: 4145.2017\n",
      "Epoch 21/30\n",
      "80/80 [==============================] - 0s 1ms/step - loss: 3924.0964 - tensor_distance_mae: 3924.0964 - val_loss: 4166.4658 - val_tensor_distance_mae: 4166.4658\n",
      "Epoch 22/30\n",
      "80/80 [==============================] - 0s 1ms/step - loss: 3917.5786 - tensor_distance_mae: 3917.5786 - val_loss: 4123.4062 - val_tensor_distance_mae: 4123.4062\n",
      "Epoch 23/30\n",
      "80/80 [==============================] - 0s 2ms/step - loss: 3905.8965 - tensor_distance_mae: 3905.8965 - val_loss: 4135.4658 - val_tensor_distance_mae: 4135.4658\n",
      "Epoch 24/30\n",
      "80/80 [==============================] - 0s 1ms/step - loss: 3893.6692 - tensor_distance_mae: 3893.6692 - val_loss: 4205.0420 - val_tensor_distance_mae: 4205.0420\n",
      "Epoch 25/30\n",
      "80/80 [==============================] - 0s 1ms/step - loss: 3863.3367 - tensor_distance_mae: 3863.3367 - val_loss: 4113.8960 - val_tensor_distance_mae: 4113.8960\n",
      "Epoch 26/30\n",
      "80/80 [==============================] - 0s 2ms/step - loss: 3880.8911 - tensor_distance_mae: 3880.8911 - val_loss: 4336.3511 - val_tensor_distance_mae: 4336.3511\n",
      "Epoch 27/30\n",
      "80/80 [==============================] - 0s 1ms/step - loss: 3850.6841 - tensor_distance_mae: 3850.6841 - val_loss: 4295.7554 - val_tensor_distance_mae: 4295.7554\n",
      "Epoch 28/30\n",
      "80/80 [==============================] - 0s 1ms/step - loss: 3856.6851 - tensor_distance_mae: 3856.6851 - val_loss: 4140.9717 - val_tensor_distance_mae: 4140.9717\n",
      "Epoch 29/30\n",
      "80/80 [==============================] - 0s 1ms/step - loss: 3821.7058 - tensor_distance_mae: 3821.7058 - val_loss: 4177.9688 - val_tensor_distance_mae: 4177.9688\n",
      "Epoch 30/30\n",
      "80/80 [==============================] - 0s 3ms/step - loss: 3810.4844 - tensor_distance_mae: 3810.4844 - val_loss: 4227.5874 - val_tensor_distance_mae: 4227.5874\n",
      "Epoch 1/30\n"
     ]
    },
    {
     "ename": "ValueError",
     "evalue": "in user code:\n\n    /opt/anaconda3/lib/python3.7/site-packages/tensorflow/python/keras/engine/training.py:806 train_function  *\n        return step_function(self, iterator)\n    /opt/anaconda3/lib/python3.7/site-packages/tensorflow/python/keras/engine/training.py:796 step_function  **\n        outputs = model.distribute_strategy.run(run_step, args=(data,))\n    /opt/anaconda3/lib/python3.7/site-packages/tensorflow/python/distribute/distribute_lib.py:1211 run\n        return self._extended.call_for_each_replica(fn, args=args, kwargs=kwargs)\n    /opt/anaconda3/lib/python3.7/site-packages/tensorflow/python/distribute/distribute_lib.py:2585 call_for_each_replica\n        return self._call_for_each_replica(fn, args, kwargs)\n    /opt/anaconda3/lib/python3.7/site-packages/tensorflow/python/distribute/distribute_lib.py:2945 _call_for_each_replica\n        return fn(*args, **kwargs)\n    /opt/anaconda3/lib/python3.7/site-packages/tensorflow/python/keras/engine/training.py:789 run_step  **\n        outputs = model.train_step(data)\n    /opt/anaconda3/lib/python3.7/site-packages/tensorflow/python/keras/engine/training.py:747 train_step\n        y_pred = self(x, training=True)\n    /opt/anaconda3/lib/python3.7/site-packages/tensorflow/python/keras/engine/base_layer.py:985 __call__\n        outputs = call_fn(inputs, *args, **kwargs)\n    /opt/anaconda3/lib/python3.7/site-packages/tensorflow/python/keras/engine/sequential.py:386 call\n        outputs = layer(inputs, **kwargs)\n    /opt/anaconda3/lib/python3.7/site-packages/tensorflow/python/keras/engine/base_layer.py:985 __call__\n        outputs = call_fn(inputs, *args, **kwargs)\n    /opt/anaconda3/lib/python3.7/site-packages/tensorflow/python/keras/layers/convolutional.py:247 call\n        outputs = self._convolution_op(inputs, self.kernel)\n    /opt/anaconda3/lib/python3.7/site-packages/tensorflow/python/util/dispatch.py:201 wrapper\n        return target(*args, **kwargs)\n    /opt/anaconda3/lib/python3.7/site-packages/tensorflow/python/ops/nn_ops.py:1017 convolution_v2\n        name=name)\n    /opt/anaconda3/lib/python3.7/site-packages/tensorflow/python/ops/nn_ops.py:1147 convolution_internal\n        name=name)\n    /opt/anaconda3/lib/python3.7/site-packages/tensorflow/python/util/dispatch.py:201 wrapper\n        return target(*args, **kwargs)\n    /opt/anaconda3/lib/python3.7/site-packages/tensorflow/python/util/deprecation.py:574 new_func\n        return func(*args, **kwargs)\n    /opt/anaconda3/lib/python3.7/site-packages/tensorflow/python/util/deprecation.py:574 new_func\n        return func(*args, **kwargs)\n    /opt/anaconda3/lib/python3.7/site-packages/tensorflow/python/ops/nn_ops.py:1888 conv1d\n        name=name)\n    /opt/anaconda3/lib/python3.7/site-packages/tensorflow/python/ops/gen_nn_ops.py:979 conv2d\n        data_format=data_format, dilations=dilations, name=name)\n    /opt/anaconda3/lib/python3.7/site-packages/tensorflow/python/framework/op_def_library.py:744 _apply_op_helper\n        attrs=attr_protos, op_def=op_def)\n    /opt/anaconda3/lib/python3.7/site-packages/tensorflow/python/framework/func_graph.py:593 _create_op_internal\n        compute_device)\n    /opt/anaconda3/lib/python3.7/site-packages/tensorflow/python/framework/ops.py:3485 _create_op_internal\n        op_def=op_def)\n    /opt/anaconda3/lib/python3.7/site-packages/tensorflow/python/framework/ops.py:1975 __init__\n        control_input_ops, op_def)\n    /opt/anaconda3/lib/python3.7/site-packages/tensorflow/python/framework/ops.py:1815 _create_c_op\n        raise ValueError(str(e))\n\n    ValueError: Negative dimension size caused by subtracting 6 from 2 for '{{node sequential_14/conv1d_4/conv1d}} = Conv2D[T=DT_FLOAT, data_format=\"NHWC\", dilations=[1, 1, 1, 1], explicit_paddings=[], padding=\"VALID\", strides=[1, 1, 1, 1], use_cudnn_on_gpu=true](sequential_14/conv1d_4/conv1d/ExpandDims, sequential_14/conv1d_4/conv1d/ExpandDims_1)' with input shapes: [32,1,2,61], [1,6,61,32].\n",
     "output_type": "error",
     "traceback": [
      "\u001b[0;31m---------------------------------------------------------------------------\u001b[0m",
      "\u001b[0;31mValueError\u001b[0m                                Traceback (most recent call last)",
      "\u001b[0;32m<ipython-input-94-d82aabd33154>\u001b[0m in \u001b[0;36m<module>\u001b[0;34m\u001b[0m\n\u001b[1;32m      5\u001b[0m            \u001b[0mepochs\u001b[0m\u001b[0;34m=\u001b[0m\u001b[0;36m30\u001b[0m\u001b[0;34m,\u001b[0m\u001b[0;34m\u001b[0m\u001b[0;34m\u001b[0m\u001b[0m\n\u001b[1;32m      6\u001b[0m            \u001b[0mverbose\u001b[0m\u001b[0;34m=\u001b[0m\u001b[0;36m1\u001b[0m\u001b[0;34m,\u001b[0m\u001b[0;34m\u001b[0m\u001b[0;34m\u001b[0m\u001b[0m\n\u001b[0;32m----> 7\u001b[0;31m            \u001b[0mvalidation_data\u001b[0m\u001b[0;34m=\u001b[0m\u001b[0mval\u001b[0m\u001b[0;34m[\u001b[0m\u001b[0mwidth\u001b[0m\u001b[0;34m]\u001b[0m\u001b[0;34m\u001b[0m\u001b[0;34m\u001b[0m\u001b[0m\n\u001b[0m\u001b[1;32m      8\u001b[0m           )\n",
      "\u001b[0;32m/opt/anaconda3/lib/python3.7/site-packages/tensorflow/python/keras/engine/training.py\u001b[0m in \u001b[0;36m_method_wrapper\u001b[0;34m(self, *args, **kwargs)\u001b[0m\n\u001b[1;32m    106\u001b[0m   \u001b[0;32mdef\u001b[0m \u001b[0m_method_wrapper\u001b[0m\u001b[0;34m(\u001b[0m\u001b[0mself\u001b[0m\u001b[0;34m,\u001b[0m \u001b[0;34m*\u001b[0m\u001b[0margs\u001b[0m\u001b[0;34m,\u001b[0m \u001b[0;34m**\u001b[0m\u001b[0mkwargs\u001b[0m\u001b[0;34m)\u001b[0m\u001b[0;34m:\u001b[0m\u001b[0;34m\u001b[0m\u001b[0;34m\u001b[0m\u001b[0m\n\u001b[1;32m    107\u001b[0m     \u001b[0;32mif\u001b[0m \u001b[0;32mnot\u001b[0m \u001b[0mself\u001b[0m\u001b[0;34m.\u001b[0m\u001b[0m_in_multi_worker_mode\u001b[0m\u001b[0;34m(\u001b[0m\u001b[0;34m)\u001b[0m\u001b[0;34m:\u001b[0m  \u001b[0;31m# pylint: disable=protected-access\u001b[0m\u001b[0;34m\u001b[0m\u001b[0;34m\u001b[0m\u001b[0m\n\u001b[0;32m--> 108\u001b[0;31m       \u001b[0;32mreturn\u001b[0m \u001b[0mmethod\u001b[0m\u001b[0;34m(\u001b[0m\u001b[0mself\u001b[0m\u001b[0;34m,\u001b[0m \u001b[0;34m*\u001b[0m\u001b[0margs\u001b[0m\u001b[0;34m,\u001b[0m \u001b[0;34m**\u001b[0m\u001b[0mkwargs\u001b[0m\u001b[0;34m)\u001b[0m\u001b[0;34m\u001b[0m\u001b[0;34m\u001b[0m\u001b[0m\n\u001b[0m\u001b[1;32m    109\u001b[0m \u001b[0;34m\u001b[0m\u001b[0m\n\u001b[1;32m    110\u001b[0m     \u001b[0;31m# Running inside `run_distribute_coordinator` already.\u001b[0m\u001b[0;34m\u001b[0m\u001b[0;34m\u001b[0m\u001b[0;34m\u001b[0m\u001b[0m\n",
      "\u001b[0;32m/opt/anaconda3/lib/python3.7/site-packages/tensorflow/python/keras/engine/training.py\u001b[0m in \u001b[0;36mfit\u001b[0;34m(self, x, y, batch_size, epochs, verbose, callbacks, validation_split, validation_data, shuffle, class_weight, sample_weight, initial_epoch, steps_per_epoch, validation_steps, validation_batch_size, validation_freq, max_queue_size, workers, use_multiprocessing)\u001b[0m\n\u001b[1;32m   1096\u001b[0m                 batch_size=batch_size):\n\u001b[1;32m   1097\u001b[0m               \u001b[0mcallbacks\u001b[0m\u001b[0;34m.\u001b[0m\u001b[0mon_train_batch_begin\u001b[0m\u001b[0;34m(\u001b[0m\u001b[0mstep\u001b[0m\u001b[0;34m)\u001b[0m\u001b[0;34m\u001b[0m\u001b[0;34m\u001b[0m\u001b[0m\n\u001b[0;32m-> 1098\u001b[0;31m               \u001b[0mtmp_logs\u001b[0m \u001b[0;34m=\u001b[0m \u001b[0mtrain_function\u001b[0m\u001b[0;34m(\u001b[0m\u001b[0miterator\u001b[0m\u001b[0;34m)\u001b[0m\u001b[0;34m\u001b[0m\u001b[0;34m\u001b[0m\u001b[0m\n\u001b[0m\u001b[1;32m   1099\u001b[0m               \u001b[0;32mif\u001b[0m \u001b[0mdata_handler\u001b[0m\u001b[0;34m.\u001b[0m\u001b[0mshould_sync\u001b[0m\u001b[0;34m:\u001b[0m\u001b[0;34m\u001b[0m\u001b[0;34m\u001b[0m\u001b[0m\n\u001b[1;32m   1100\u001b[0m                 \u001b[0mcontext\u001b[0m\u001b[0;34m.\u001b[0m\u001b[0masync_wait\u001b[0m\u001b[0;34m(\u001b[0m\u001b[0;34m)\u001b[0m\u001b[0;34m\u001b[0m\u001b[0;34m\u001b[0m\u001b[0m\n",
      "\u001b[0;32m/opt/anaconda3/lib/python3.7/site-packages/tensorflow/python/eager/def_function.py\u001b[0m in \u001b[0;36m__call__\u001b[0;34m(self, *args, **kwds)\u001b[0m\n\u001b[1;32m    778\u001b[0m       \u001b[0;32melse\u001b[0m\u001b[0;34m:\u001b[0m\u001b[0;34m\u001b[0m\u001b[0;34m\u001b[0m\u001b[0m\n\u001b[1;32m    779\u001b[0m         \u001b[0mcompiler\u001b[0m \u001b[0;34m=\u001b[0m \u001b[0;34m\"nonXla\"\u001b[0m\u001b[0;34m\u001b[0m\u001b[0;34m\u001b[0m\u001b[0m\n\u001b[0;32m--> 780\u001b[0;31m         \u001b[0mresult\u001b[0m \u001b[0;34m=\u001b[0m \u001b[0mself\u001b[0m\u001b[0;34m.\u001b[0m\u001b[0m_call\u001b[0m\u001b[0;34m(\u001b[0m\u001b[0;34m*\u001b[0m\u001b[0margs\u001b[0m\u001b[0;34m,\u001b[0m \u001b[0;34m**\u001b[0m\u001b[0mkwds\u001b[0m\u001b[0;34m)\u001b[0m\u001b[0;34m\u001b[0m\u001b[0;34m\u001b[0m\u001b[0m\n\u001b[0m\u001b[1;32m    781\u001b[0m \u001b[0;34m\u001b[0m\u001b[0m\n\u001b[1;32m    782\u001b[0m       \u001b[0mnew_tracing_count\u001b[0m \u001b[0;34m=\u001b[0m \u001b[0mself\u001b[0m\u001b[0;34m.\u001b[0m\u001b[0m_get_tracing_count\u001b[0m\u001b[0;34m(\u001b[0m\u001b[0;34m)\u001b[0m\u001b[0;34m\u001b[0m\u001b[0;34m\u001b[0m\u001b[0m\n",
      "\u001b[0;32m/opt/anaconda3/lib/python3.7/site-packages/tensorflow/python/eager/def_function.py\u001b[0m in \u001b[0;36m_call\u001b[0;34m(self, *args, **kwds)\u001b[0m\n\u001b[1;32m    821\u001b[0m       \u001b[0;31m# This is the first call of __call__, so we have to initialize.\u001b[0m\u001b[0;34m\u001b[0m\u001b[0;34m\u001b[0m\u001b[0;34m\u001b[0m\u001b[0m\n\u001b[1;32m    822\u001b[0m       \u001b[0minitializers\u001b[0m \u001b[0;34m=\u001b[0m \u001b[0;34m[\u001b[0m\u001b[0;34m]\u001b[0m\u001b[0;34m\u001b[0m\u001b[0;34m\u001b[0m\u001b[0m\n\u001b[0;32m--> 823\u001b[0;31m       \u001b[0mself\u001b[0m\u001b[0;34m.\u001b[0m\u001b[0m_initialize\u001b[0m\u001b[0;34m(\u001b[0m\u001b[0margs\u001b[0m\u001b[0;34m,\u001b[0m \u001b[0mkwds\u001b[0m\u001b[0;34m,\u001b[0m \u001b[0madd_initializers_to\u001b[0m\u001b[0;34m=\u001b[0m\u001b[0minitializers\u001b[0m\u001b[0;34m)\u001b[0m\u001b[0;34m\u001b[0m\u001b[0;34m\u001b[0m\u001b[0m\n\u001b[0m\u001b[1;32m    824\u001b[0m     \u001b[0;32mfinally\u001b[0m\u001b[0;34m:\u001b[0m\u001b[0;34m\u001b[0m\u001b[0;34m\u001b[0m\u001b[0m\n\u001b[1;32m    825\u001b[0m       \u001b[0;31m# At this point we know that the initialization is complete (or less\u001b[0m\u001b[0;34m\u001b[0m\u001b[0;34m\u001b[0m\u001b[0;34m\u001b[0m\u001b[0m\n",
      "\u001b[0;32m/opt/anaconda3/lib/python3.7/site-packages/tensorflow/python/eager/def_function.py\u001b[0m in \u001b[0;36m_initialize\u001b[0;34m(self, args, kwds, add_initializers_to)\u001b[0m\n\u001b[1;32m    695\u001b[0m     self._concrete_stateful_fn = (\n\u001b[1;32m    696\u001b[0m         self._stateful_fn._get_concrete_function_internal_garbage_collected(  # pylint: disable=protected-access\n\u001b[0;32m--> 697\u001b[0;31m             *args, **kwds))\n\u001b[0m\u001b[1;32m    698\u001b[0m \u001b[0;34m\u001b[0m\u001b[0m\n\u001b[1;32m    699\u001b[0m     \u001b[0;32mdef\u001b[0m \u001b[0minvalid_creator_scope\u001b[0m\u001b[0;34m(\u001b[0m\u001b[0;34m*\u001b[0m\u001b[0munused_args\u001b[0m\u001b[0;34m,\u001b[0m \u001b[0;34m**\u001b[0m\u001b[0munused_kwds\u001b[0m\u001b[0;34m)\u001b[0m\u001b[0;34m:\u001b[0m\u001b[0;34m\u001b[0m\u001b[0;34m\u001b[0m\u001b[0m\n",
      "\u001b[0;32m/opt/anaconda3/lib/python3.7/site-packages/tensorflow/python/eager/function.py\u001b[0m in \u001b[0;36m_get_concrete_function_internal_garbage_collected\u001b[0;34m(self, *args, **kwargs)\u001b[0m\n\u001b[1;32m   2853\u001b[0m       \u001b[0margs\u001b[0m\u001b[0;34m,\u001b[0m \u001b[0mkwargs\u001b[0m \u001b[0;34m=\u001b[0m \u001b[0;32mNone\u001b[0m\u001b[0;34m,\u001b[0m \u001b[0;32mNone\u001b[0m\u001b[0;34m\u001b[0m\u001b[0;34m\u001b[0m\u001b[0m\n\u001b[1;32m   2854\u001b[0m     \u001b[0;32mwith\u001b[0m \u001b[0mself\u001b[0m\u001b[0;34m.\u001b[0m\u001b[0m_lock\u001b[0m\u001b[0;34m:\u001b[0m\u001b[0;34m\u001b[0m\u001b[0;34m\u001b[0m\u001b[0m\n\u001b[0;32m-> 2855\u001b[0;31m       \u001b[0mgraph_function\u001b[0m\u001b[0;34m,\u001b[0m \u001b[0m_\u001b[0m\u001b[0;34m,\u001b[0m \u001b[0m_\u001b[0m \u001b[0;34m=\u001b[0m \u001b[0mself\u001b[0m\u001b[0;34m.\u001b[0m\u001b[0m_maybe_define_function\u001b[0m\u001b[0;34m(\u001b[0m\u001b[0margs\u001b[0m\u001b[0;34m,\u001b[0m \u001b[0mkwargs\u001b[0m\u001b[0;34m)\u001b[0m\u001b[0;34m\u001b[0m\u001b[0;34m\u001b[0m\u001b[0m\n\u001b[0m\u001b[1;32m   2856\u001b[0m     \u001b[0;32mreturn\u001b[0m \u001b[0mgraph_function\u001b[0m\u001b[0;34m\u001b[0m\u001b[0;34m\u001b[0m\u001b[0m\n\u001b[1;32m   2857\u001b[0m \u001b[0;34m\u001b[0m\u001b[0m\n",
      "\u001b[0;32m/opt/anaconda3/lib/python3.7/site-packages/tensorflow/python/eager/function.py\u001b[0m in \u001b[0;36m_maybe_define_function\u001b[0;34m(self, args, kwargs)\u001b[0m\n\u001b[1;32m   3211\u001b[0m \u001b[0;34m\u001b[0m\u001b[0m\n\u001b[1;32m   3212\u001b[0m       \u001b[0mself\u001b[0m\u001b[0;34m.\u001b[0m\u001b[0m_function_cache\u001b[0m\u001b[0;34m.\u001b[0m\u001b[0mmissed\u001b[0m\u001b[0;34m.\u001b[0m\u001b[0madd\u001b[0m\u001b[0;34m(\u001b[0m\u001b[0mcall_context_key\u001b[0m\u001b[0;34m)\u001b[0m\u001b[0;34m\u001b[0m\u001b[0;34m\u001b[0m\u001b[0m\n\u001b[0;32m-> 3213\u001b[0;31m       \u001b[0mgraph_function\u001b[0m \u001b[0;34m=\u001b[0m \u001b[0mself\u001b[0m\u001b[0;34m.\u001b[0m\u001b[0m_create_graph_function\u001b[0m\u001b[0;34m(\u001b[0m\u001b[0margs\u001b[0m\u001b[0;34m,\u001b[0m \u001b[0mkwargs\u001b[0m\u001b[0;34m)\u001b[0m\u001b[0;34m\u001b[0m\u001b[0;34m\u001b[0m\u001b[0m\n\u001b[0m\u001b[1;32m   3214\u001b[0m       \u001b[0mself\u001b[0m\u001b[0;34m.\u001b[0m\u001b[0m_function_cache\u001b[0m\u001b[0;34m.\u001b[0m\u001b[0mprimary\u001b[0m\u001b[0;34m[\u001b[0m\u001b[0mcache_key\u001b[0m\u001b[0;34m]\u001b[0m \u001b[0;34m=\u001b[0m \u001b[0mgraph_function\u001b[0m\u001b[0;34m\u001b[0m\u001b[0;34m\u001b[0m\u001b[0m\n\u001b[1;32m   3215\u001b[0m       \u001b[0;32mreturn\u001b[0m \u001b[0mgraph_function\u001b[0m\u001b[0;34m,\u001b[0m \u001b[0margs\u001b[0m\u001b[0;34m,\u001b[0m \u001b[0mkwargs\u001b[0m\u001b[0;34m\u001b[0m\u001b[0;34m\u001b[0m\u001b[0m\n",
      "\u001b[0;32m/opt/anaconda3/lib/python3.7/site-packages/tensorflow/python/eager/function.py\u001b[0m in \u001b[0;36m_create_graph_function\u001b[0;34m(self, args, kwargs, override_flat_arg_shapes)\u001b[0m\n\u001b[1;32m   3073\u001b[0m             \u001b[0marg_names\u001b[0m\u001b[0;34m=\u001b[0m\u001b[0marg_names\u001b[0m\u001b[0;34m,\u001b[0m\u001b[0;34m\u001b[0m\u001b[0;34m\u001b[0m\u001b[0m\n\u001b[1;32m   3074\u001b[0m             \u001b[0moverride_flat_arg_shapes\u001b[0m\u001b[0;34m=\u001b[0m\u001b[0moverride_flat_arg_shapes\u001b[0m\u001b[0;34m,\u001b[0m\u001b[0;34m\u001b[0m\u001b[0;34m\u001b[0m\u001b[0m\n\u001b[0;32m-> 3075\u001b[0;31m             capture_by_value=self._capture_by_value),\n\u001b[0m\u001b[1;32m   3076\u001b[0m         \u001b[0mself\u001b[0m\u001b[0;34m.\u001b[0m\u001b[0m_function_attributes\u001b[0m\u001b[0;34m,\u001b[0m\u001b[0;34m\u001b[0m\u001b[0;34m\u001b[0m\u001b[0m\n\u001b[1;32m   3077\u001b[0m         \u001b[0mfunction_spec\u001b[0m\u001b[0;34m=\u001b[0m\u001b[0mself\u001b[0m\u001b[0;34m.\u001b[0m\u001b[0mfunction_spec\u001b[0m\u001b[0;34m,\u001b[0m\u001b[0;34m\u001b[0m\u001b[0;34m\u001b[0m\u001b[0m\n",
      "\u001b[0;32m/opt/anaconda3/lib/python3.7/site-packages/tensorflow/python/framework/func_graph.py\u001b[0m in \u001b[0;36mfunc_graph_from_py_func\u001b[0;34m(name, python_func, args, kwargs, signature, func_graph, autograph, autograph_options, add_control_dependencies, arg_names, op_return_value, collections, capture_by_value, override_flat_arg_shapes)\u001b[0m\n\u001b[1;32m    984\u001b[0m         \u001b[0m_\u001b[0m\u001b[0;34m,\u001b[0m \u001b[0moriginal_func\u001b[0m \u001b[0;34m=\u001b[0m \u001b[0mtf_decorator\u001b[0m\u001b[0;34m.\u001b[0m\u001b[0munwrap\u001b[0m\u001b[0;34m(\u001b[0m\u001b[0mpython_func\u001b[0m\u001b[0;34m)\u001b[0m\u001b[0;34m\u001b[0m\u001b[0;34m\u001b[0m\u001b[0m\n\u001b[1;32m    985\u001b[0m \u001b[0;34m\u001b[0m\u001b[0m\n\u001b[0;32m--> 986\u001b[0;31m       \u001b[0mfunc_outputs\u001b[0m \u001b[0;34m=\u001b[0m \u001b[0mpython_func\u001b[0m\u001b[0;34m(\u001b[0m\u001b[0;34m*\u001b[0m\u001b[0mfunc_args\u001b[0m\u001b[0;34m,\u001b[0m \u001b[0;34m**\u001b[0m\u001b[0mfunc_kwargs\u001b[0m\u001b[0;34m)\u001b[0m\u001b[0;34m\u001b[0m\u001b[0;34m\u001b[0m\u001b[0m\n\u001b[0m\u001b[1;32m    987\u001b[0m \u001b[0;34m\u001b[0m\u001b[0m\n\u001b[1;32m    988\u001b[0m       \u001b[0;31m# invariant: `func_outputs` contains only Tensors, CompositeTensors,\u001b[0m\u001b[0;34m\u001b[0m\u001b[0;34m\u001b[0m\u001b[0;34m\u001b[0m\u001b[0m\n",
      "\u001b[0;32m/opt/anaconda3/lib/python3.7/site-packages/tensorflow/python/eager/def_function.py\u001b[0m in \u001b[0;36mwrapped_fn\u001b[0;34m(*args, **kwds)\u001b[0m\n\u001b[1;32m    598\u001b[0m         \u001b[0;31m# __wrapped__ allows AutoGraph to swap in a converted function. We give\u001b[0m\u001b[0;34m\u001b[0m\u001b[0;34m\u001b[0m\u001b[0;34m\u001b[0m\u001b[0m\n\u001b[1;32m    599\u001b[0m         \u001b[0;31m# the function a weak reference to itself to avoid a reference cycle.\u001b[0m\u001b[0;34m\u001b[0m\u001b[0;34m\u001b[0m\u001b[0;34m\u001b[0m\u001b[0m\n\u001b[0;32m--> 600\u001b[0;31m         \u001b[0;32mreturn\u001b[0m \u001b[0mweak_wrapped_fn\u001b[0m\u001b[0;34m(\u001b[0m\u001b[0;34m)\u001b[0m\u001b[0;34m.\u001b[0m\u001b[0m__wrapped__\u001b[0m\u001b[0;34m(\u001b[0m\u001b[0;34m*\u001b[0m\u001b[0margs\u001b[0m\u001b[0;34m,\u001b[0m \u001b[0;34m**\u001b[0m\u001b[0mkwds\u001b[0m\u001b[0;34m)\u001b[0m\u001b[0;34m\u001b[0m\u001b[0;34m\u001b[0m\u001b[0m\n\u001b[0m\u001b[1;32m    601\u001b[0m     \u001b[0mweak_wrapped_fn\u001b[0m \u001b[0;34m=\u001b[0m \u001b[0mweakref\u001b[0m\u001b[0;34m.\u001b[0m\u001b[0mref\u001b[0m\u001b[0;34m(\u001b[0m\u001b[0mwrapped_fn\u001b[0m\u001b[0;34m)\u001b[0m\u001b[0;34m\u001b[0m\u001b[0;34m\u001b[0m\u001b[0m\n\u001b[1;32m    602\u001b[0m \u001b[0;34m\u001b[0m\u001b[0m\n",
      "\u001b[0;32m/opt/anaconda3/lib/python3.7/site-packages/tensorflow/python/framework/func_graph.py\u001b[0m in \u001b[0;36mwrapper\u001b[0;34m(*args, **kwargs)\u001b[0m\n\u001b[1;32m    971\u001b[0m           \u001b[0;32mexcept\u001b[0m \u001b[0mException\u001b[0m \u001b[0;32mas\u001b[0m \u001b[0me\u001b[0m\u001b[0;34m:\u001b[0m  \u001b[0;31m# pylint:disable=broad-except\u001b[0m\u001b[0;34m\u001b[0m\u001b[0;34m\u001b[0m\u001b[0m\n\u001b[1;32m    972\u001b[0m             \u001b[0;32mif\u001b[0m \u001b[0mhasattr\u001b[0m\u001b[0;34m(\u001b[0m\u001b[0me\u001b[0m\u001b[0;34m,\u001b[0m \u001b[0;34m\"ag_error_metadata\"\u001b[0m\u001b[0;34m)\u001b[0m\u001b[0;34m:\u001b[0m\u001b[0;34m\u001b[0m\u001b[0;34m\u001b[0m\u001b[0m\n\u001b[0;32m--> 973\u001b[0;31m               \u001b[0;32mraise\u001b[0m \u001b[0me\u001b[0m\u001b[0;34m.\u001b[0m\u001b[0mag_error_metadata\u001b[0m\u001b[0;34m.\u001b[0m\u001b[0mto_exception\u001b[0m\u001b[0;34m(\u001b[0m\u001b[0me\u001b[0m\u001b[0;34m)\u001b[0m\u001b[0;34m\u001b[0m\u001b[0;34m\u001b[0m\u001b[0m\n\u001b[0m\u001b[1;32m    974\u001b[0m             \u001b[0;32melse\u001b[0m\u001b[0;34m:\u001b[0m\u001b[0;34m\u001b[0m\u001b[0;34m\u001b[0m\u001b[0m\n\u001b[1;32m    975\u001b[0m               \u001b[0;32mraise\u001b[0m\u001b[0;34m\u001b[0m\u001b[0;34m\u001b[0m\u001b[0m\n",
      "\u001b[0;31mValueError\u001b[0m: in user code:\n\n    /opt/anaconda3/lib/python3.7/site-packages/tensorflow/python/keras/engine/training.py:806 train_function  *\n        return step_function(self, iterator)\n    /opt/anaconda3/lib/python3.7/site-packages/tensorflow/python/keras/engine/training.py:796 step_function  **\n        outputs = model.distribute_strategy.run(run_step, args=(data,))\n    /opt/anaconda3/lib/python3.7/site-packages/tensorflow/python/distribute/distribute_lib.py:1211 run\n        return self._extended.call_for_each_replica(fn, args=args, kwargs=kwargs)\n    /opt/anaconda3/lib/python3.7/site-packages/tensorflow/python/distribute/distribute_lib.py:2585 call_for_each_replica\n        return self._call_for_each_replica(fn, args, kwargs)\n    /opt/anaconda3/lib/python3.7/site-packages/tensorflow/python/distribute/distribute_lib.py:2945 _call_for_each_replica\n        return fn(*args, **kwargs)\n    /opt/anaconda3/lib/python3.7/site-packages/tensorflow/python/keras/engine/training.py:789 run_step  **\n        outputs = model.train_step(data)\n    /opt/anaconda3/lib/python3.7/site-packages/tensorflow/python/keras/engine/training.py:747 train_step\n        y_pred = self(x, training=True)\n    /opt/anaconda3/lib/python3.7/site-packages/tensorflow/python/keras/engine/base_layer.py:985 __call__\n        outputs = call_fn(inputs, *args, **kwargs)\n    /opt/anaconda3/lib/python3.7/site-packages/tensorflow/python/keras/engine/sequential.py:386 call\n        outputs = layer(inputs, **kwargs)\n    /opt/anaconda3/lib/python3.7/site-packages/tensorflow/python/keras/engine/base_layer.py:985 __call__\n        outputs = call_fn(inputs, *args, **kwargs)\n    /opt/anaconda3/lib/python3.7/site-packages/tensorflow/python/keras/layers/convolutional.py:247 call\n        outputs = self._convolution_op(inputs, self.kernel)\n    /opt/anaconda3/lib/python3.7/site-packages/tensorflow/python/util/dispatch.py:201 wrapper\n        return target(*args, **kwargs)\n    /opt/anaconda3/lib/python3.7/site-packages/tensorflow/python/ops/nn_ops.py:1017 convolution_v2\n        name=name)\n    /opt/anaconda3/lib/python3.7/site-packages/tensorflow/python/ops/nn_ops.py:1147 convolution_internal\n        name=name)\n    /opt/anaconda3/lib/python3.7/site-packages/tensorflow/python/util/dispatch.py:201 wrapper\n        return target(*args, **kwargs)\n    /opt/anaconda3/lib/python3.7/site-packages/tensorflow/python/util/deprecation.py:574 new_func\n        return func(*args, **kwargs)\n    /opt/anaconda3/lib/python3.7/site-packages/tensorflow/python/util/deprecation.py:574 new_func\n        return func(*args, **kwargs)\n    /opt/anaconda3/lib/python3.7/site-packages/tensorflow/python/ops/nn_ops.py:1888 conv1d\n        name=name)\n    /opt/anaconda3/lib/python3.7/site-packages/tensorflow/python/ops/gen_nn_ops.py:979 conv2d\n        data_format=data_format, dilations=dilations, name=name)\n    /opt/anaconda3/lib/python3.7/site-packages/tensorflow/python/framework/op_def_library.py:744 _apply_op_helper\n        attrs=attr_protos, op_def=op_def)\n    /opt/anaconda3/lib/python3.7/site-packages/tensorflow/python/framework/func_graph.py:593 _create_op_internal\n        compute_device)\n    /opt/anaconda3/lib/python3.7/site-packages/tensorflow/python/framework/ops.py:3485 _create_op_internal\n        op_def=op_def)\n    /opt/anaconda3/lib/python3.7/site-packages/tensorflow/python/framework/ops.py:1975 __init__\n        control_input_ops, op_def)\n    /opt/anaconda3/lib/python3.7/site-packages/tensorflow/python/framework/ops.py:1815 _create_c_op\n        raise ValueError(str(e))\n\n    ValueError: Negative dimension size caused by subtracting 6 from 2 for '{{node sequential_14/conv1d_4/conv1d}} = Conv2D[T=DT_FLOAT, data_format=\"NHWC\", dilations=[1, 1, 1, 1], explicit_paddings=[], padding=\"VALID\", strides=[1, 1, 1, 1], use_cudnn_on_gpu=true](sequential_14/conv1d_4/conv1d/ExpandDims, sequential_14/conv1d_4/conv1d/ExpandDims_1)' with input shapes: [32,1,2,61], [1,6,61,32].\n"
     ]
    }
   ],
   "source": [
    "for width in conv_models.keys():\n",
    "    conv_models[width].fit(x=train[width][0],\n",
    "           y=train[width][1],\n",
    "           batch_size=32,\n",
    "           epochs=30,\n",
    "           verbose=1,\n",
    "           validation_data=val[width]\n",
    "          )"
   ]
  },
  {
   "cell_type": "code",
   "execution_count": null,
   "metadata": {
    "scrolled": true
   },
   "outputs": [],
   "source": [
    "\"\"\"lstm_model.fit(x=conv_train[0],\n",
    "           y=conv_train[1],\n",
    "           batch_size=32,\n",
    "           epochs=30,\n",
    "           verbose=1,\n",
    "           validation_data=conv_val\n",
    "          )\"\"\"\n",
    "\"sob\""
   ]
  },
  {
   "cell_type": "code",
   "execution_count": null,
   "metadata": {
    "scrolled": true
   },
   "outputs": [],
   "source": [
    "# predict center is 7500,7500 for each row\n",
    "center_pred = tf.fill(test[1][1].shape,7500.)\n",
    "center_error = float(metricli(center_pred, test[1][1]))"
   ]
  },
  {
   "cell_type": "markdown",
   "metadata": {},
   "source": [
    "## Evaluation"
   ]
  },
  {
   "cell_type": "code",
   "execution_count": null,
   "metadata": {
    "scrolled": false
   },
   "outputs": [],
   "source": [
    "linear_error = linear.evaluate(test[1][0], test[1][1])\n",
    "baseline_error = baseline.evaluate(test[1][0], test[1][1])\n",
    "dense_error = dense.evaluate(test[1][0], test[1][1])\n",
    "md_err = {}\n",
    "conv_err = {}\n",
    "for i in conv_models.keys():\n",
    "    conv_err[i] = conv_models[i].evaluate(test[i][0], test[i][1])\n",
    "    md_err[i] = multi_dense_models[i].evaluate(test[i][0], test[i][1])\n",
    "    print(\"multistep dense model mae\",str(i), md_err[i][1])\n",
    "    print(\"convolutional model mae\",str(i), conv_err[i][1])\n",
    "print(\"baseline mae:\", baseline_error[1])\n",
    "print(\"center mae:\", center_error)\n",
    "print(\"linear mae:\", linear_error[1])\n",
    "print(\"dense mae:\", dense_error[1])"
   ]
  },
  {
   "cell_type": "markdown",
   "metadata": {},
   "source": [
    "## Plotting model's predictions"
   ]
  },
  {
   "cell_type": "code",
   "execution_count": null,
   "metadata": {
    "scrolled": true
   },
   "outputs": [],
   "source": [
    "# dense model\n",
    "wide_window.plot_map2(dense,input_width=1,plot_col=[\"playerx\",\"playery\"])"
   ]
  },
  {
   "cell_type": "code",
   "execution_count": null,
   "metadata": {
    "scrolled": false
   },
   "outputs": [],
   "source": [
    "# lookback of 3\n",
    "wide_window.plot_map2(conv_models[2],input_width=2,plot_col=[\"playerx\",\"playery\"])"
   ]
  },
  {
   "cell_type": "code",
   "execution_count": null,
   "metadata": {
    "scrolled": true
   },
   "outputs": [],
   "source": [
    "# lookback of 4\n",
    "wide_window.plot_map2(conv_models[3],input_width=3,plot_col=[\"playerx\",\"playery\"])"
   ]
  },
  {
   "cell_type": "code",
   "execution_count": null,
   "metadata": {
    "scrolled": true
   },
   "outputs": [],
   "source": [
    "# lookback of 2\n",
    "wide_window.plot_map2(conv_models[4],input_width=4,plot_col=[\"playerx\",\"playery\"])"
   ]
  },
  {
   "cell_type": "code",
   "execution_count": 47,
   "metadata": {},
   "outputs": [],
   "source": [
    "# a small look at what a model is doing - I'd like to look more into this\n",
    "import keras"
   ]
  },
  {
   "cell_type": "code",
   "execution_count": 49,
   "metadata": {},
   "outputs": [
    {
     "data": {
      "image/png": "[encoded data removed]",
      "text/plain": [
       "<IPython.core.display.Image object>"
      ]
     },
     "execution_count": 49,
     "metadata": {},
     "output_type": "execute_result"
    }
   ],
   "source": [
    "keras.utils.plot_model(conv_models[2], \"images/dense_model.png\", show_shapes=True)"
   ]
  },
  {
   "cell_type": "code",
   "execution_count": null,
   "metadata": {},
   "outputs": [],
   "source": []
  }
 ],
 "metadata": {
  "kernelspec": {
   "display_name": "Python 3",
   "language": "python",
   "name": "python3"
  },
  "language_info": {
   "codemirror_mode": {
    "name": "ipython",
    "version": 3
   },
   "file_extension": ".py",
   "mimetype": "text/x-python",
   "name": "python",
   "nbconvert_exporter": "python",
   "pygments_lexer": "ipython3",
   "version": "3.7.6"
  }
 },
 "nbformat": 4,
 "nbformat_minor": 4
}
