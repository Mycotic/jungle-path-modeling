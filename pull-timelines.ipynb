{
 "cells": [
  {
   "cell_type": "code",
   "execution_count": 1,
   "metadata": {},
   "outputs": [
    {
     "data": {
      "text/plain": [
       "'docstring :)'"
      ]
     },
     "execution_count": 1,
     "metadata": {},
     "output_type": "execute_result"
    }
   ],
   "source": [
    "\"\"\"docstring :)\"\"\""
   ]
  },
  {
   "cell_type": "code",
   "execution_count": 2,
   "metadata": {},
   "outputs": [],
   "source": [
    "import json\n",
    "import requests\n",
    "import pandas as pd\n",
    "from riotwatcher import LolWatcher, ApiError\n",
    "import numpy as np\n",
    "import matplotlib.pyplot as plt\n",
    "# from time import sleep\n",
    "\n",
    "with open('data/api-key.txt', 'r') as api:\n",
    "    API_KEY = api.read()\n",
    "lol_watcher = LolWatcher(API_KEY)\n",
    "\n",
    "HEADERS = {\n",
    "    \"User-Agent\": \"Mozilla/5.0 (Macintosh; Intel Mac OS X 10_15_4)\"+\n",
    "                    \" AppleWebKit/537.36 (KHTML, like Gecko) Chrome/84.0.4147.135\"+\n",
    "                    \" Safari/537.36\",\n",
    "    \"Accept-Language\": \"en-US,en;q=0.9\",\n",
    "    \"Accept-Charset\": \"application/x-www-form-urlencoded; charset=UTF-8\",\n",
    "    \"Origin\": \"https://developer.riotgames.com\",\n",
    "    \"X-Riot-Token\": API_KEY\n",
    "}\n",
    "\n",
    "CHAMP_ID = 64\n",
    "TESTMATCH = \"4748107995\"\n",
    "\n",
    "np.random.seed(7)\n",
    "\n",
    "matches = pd.read_csv(\"data/clid-matches.csv\")"
   ]
  },
  {
   "cell_type": "markdown",
   "metadata": {},
   "source": [
    "the time stamp 44111 is 44 seconds and 111 milliseconds"
   ]
  },
  {
   "cell_type": "code",
   "execution_count": 3,
   "metadata": {
    "scrolled": true
   },
   "outputs": [
    {
     "data": {
      "text/html": [
       "<div>\n",
       "<style scoped>\n",
       "    .dataframe tbody tr th:only-of-type {\n",
       "        vertical-align: middle;\n",
       "    }\n",
       "\n",
       "    .dataframe tbody tr th {\n",
       "        vertical-align: top;\n",
       "    }\n",
       "\n",
       "    .dataframe thead th {\n",
       "        text-align: right;\n",
       "    }\n",
       "</style>\n",
       "<table border=\"1\" class=\"dataframe\">\n",
       "  <thead>\n",
       "    <tr style=\"text-align: right;\">\n",
       "      <th></th>\n",
       "      <th>platformId</th>\n",
       "      <th>gameId</th>\n",
       "      <th>champion</th>\n",
       "      <th>queue</th>\n",
       "      <th>season</th>\n",
       "      <th>timestamp</th>\n",
       "      <th>role</th>\n",
       "      <th>lane</th>\n",
       "    </tr>\n",
       "  </thead>\n",
       "  <tbody>\n",
       "    <tr>\n",
       "      <th>0</th>\n",
       "      <td>KR</td>\n",
       "      <td>4758318885</td>\n",
       "      <td>64</td>\n",
       "      <td>420</td>\n",
       "      <td>13</td>\n",
       "      <td>1604330054317</td>\n",
       "      <td>NONE</td>\n",
       "      <td>JUNGLE</td>\n",
       "    </tr>\n",
       "    <tr>\n",
       "      <th>1</th>\n",
       "      <td>KR</td>\n",
       "      <td>4758080001</td>\n",
       "      <td>64</td>\n",
       "      <td>420</td>\n",
       "      <td>13</td>\n",
       "      <td>1604321575669</td>\n",
       "      <td>NONE</td>\n",
       "      <td>JUNGLE</td>\n",
       "    </tr>\n",
       "    <tr>\n",
       "      <th>2</th>\n",
       "      <td>KR</td>\n",
       "      <td>4757537954</td>\n",
       "      <td>64</td>\n",
       "      <td>420</td>\n",
       "      <td>13</td>\n",
       "      <td>1604308057379</td>\n",
       "      <td>NONE</td>\n",
       "      <td>JUNGLE</td>\n",
       "    </tr>\n",
       "    <tr>\n",
       "      <th>3</th>\n",
       "      <td>KR</td>\n",
       "      <td>4756152547</td>\n",
       "      <td>64</td>\n",
       "      <td>420</td>\n",
       "      <td>13</td>\n",
       "      <td>1604233077276</td>\n",
       "      <td>NONE</td>\n",
       "      <td>JUNGLE</td>\n",
       "    </tr>\n",
       "    <tr>\n",
       "      <th>4</th>\n",
       "      <td>KR</td>\n",
       "      <td>4755546321</td>\n",
       "      <td>64</td>\n",
       "      <td>420</td>\n",
       "      <td>13</td>\n",
       "      <td>1604226697905</td>\n",
       "      <td>NONE</td>\n",
       "      <td>JUNGLE</td>\n",
       "    </tr>\n",
       "    <tr>\n",
       "      <th>...</th>\n",
       "      <td>...</td>\n",
       "      <td>...</td>\n",
       "      <td>...</td>\n",
       "      <td>...</td>\n",
       "      <td>...</td>\n",
       "      <td>...</td>\n",
       "      <td>...</td>\n",
       "      <td>...</td>\n",
       "    </tr>\n",
       "    <tr>\n",
       "      <th>518</th>\n",
       "      <td>KR</td>\n",
       "      <td>3432455664</td>\n",
       "      <td>64</td>\n",
       "      <td>420</td>\n",
       "      <td>12</td>\n",
       "      <td>1542973849243</td>\n",
       "      <td>NONE</td>\n",
       "      <td>JUNGLE</td>\n",
       "    </tr>\n",
       "    <tr>\n",
       "      <th>519</th>\n",
       "      <td>KR</td>\n",
       "      <td>3430594315</td>\n",
       "      <td>64</td>\n",
       "      <td>420</td>\n",
       "      <td>12</td>\n",
       "      <td>1542822782724</td>\n",
       "      <td>NONE</td>\n",
       "      <td>JUNGLE</td>\n",
       "    </tr>\n",
       "    <tr>\n",
       "      <th>520</th>\n",
       "      <td>KR</td>\n",
       "      <td>3420476831</td>\n",
       "      <td>64</td>\n",
       "      <td>420</td>\n",
       "      <td>12</td>\n",
       "      <td>1542113321062</td>\n",
       "      <td>NONE</td>\n",
       "      <td>JUNGLE</td>\n",
       "    </tr>\n",
       "    <tr>\n",
       "      <th>521</th>\n",
       "      <td>KR</td>\n",
       "      <td>3419108414</td>\n",
       "      <td>64</td>\n",
       "      <td>420</td>\n",
       "      <td>11</td>\n",
       "      <td>1542007670086</td>\n",
       "      <td>NONE</td>\n",
       "      <td>JUNGLE</td>\n",
       "    </tr>\n",
       "    <tr>\n",
       "      <th>522</th>\n",
       "      <td>KR</td>\n",
       "      <td>3413663021</td>\n",
       "      <td>64</td>\n",
       "      <td>420</td>\n",
       "      <td>11</td>\n",
       "      <td>1541669458685</td>\n",
       "      <td>NONE</td>\n",
       "      <td>JUNGLE</td>\n",
       "    </tr>\n",
       "  </tbody>\n",
       "</table>\n",
       "<p>523 rows × 8 columns</p>\n",
       "</div>"
      ],
      "text/plain": [
       "    platformId      gameId  champion  queue  season      timestamp  role  \\\n",
       "0           KR  4758318885        64    420      13  1604330054317  NONE   \n",
       "1           KR  4758080001        64    420      13  1604321575669  NONE   \n",
       "2           KR  4757537954        64    420      13  1604308057379  NONE   \n",
       "3           KR  4756152547        64    420      13  1604233077276  NONE   \n",
       "4           KR  4755546321        64    420      13  1604226697905  NONE   \n",
       "..         ...         ...       ...    ...     ...            ...   ...   \n",
       "518         KR  3432455664        64    420      12  1542973849243  NONE   \n",
       "519         KR  3430594315        64    420      12  1542822782724  NONE   \n",
       "520         KR  3420476831        64    420      12  1542113321062  NONE   \n",
       "521         KR  3419108414        64    420      11  1542007670086  NONE   \n",
       "522         KR  3413663021        64    420      11  1541669458685  NONE   \n",
       "\n",
       "       lane  \n",
       "0    JUNGLE  \n",
       "1    JUNGLE  \n",
       "2    JUNGLE  \n",
       "3    JUNGLE  \n",
       "4    JUNGLE  \n",
       "..      ...  \n",
       "518  JUNGLE  \n",
       "519  JUNGLE  \n",
       "520  JUNGLE  \n",
       "521  JUNGLE  \n",
       "522  JUNGLE  \n",
       "\n",
       "[523 rows x 8 columns]"
      ]
     },
     "execution_count": 3,
     "metadata": {},
     "output_type": "execute_result"
    }
   ],
   "source": [
    "matches"
   ]
  },
  {
   "cell_type": "code",
   "execution_count": 4,
   "metadata": {},
   "outputs": [],
   "source": [
    "def get_match(match_id, region=\"kr\"):\n",
    "    \"\"\"matchid is str, returns match info which is in json form, and returns clid's participant id for the game\"\"\"\n",
    "    match_request = requests.get(\"https://\"+region+\".api.riotgames.com/lol/match/v4/matches/\"+match_id,\n",
    "                                 headers=HEADERS)\n",
    "    match_json = json.loads(match_request.text)\n",
    "    for participant in match_json[\"participants\"]:\n",
    "        if participant[\"championId\"] == CHAMP_ID:\n",
    "            player_participant_id = participant[\"participantId\"] \n",
    "    return match_json, player_participant_id"
   ]
  },
  {
   "cell_type": "code",
   "execution_count": 5,
   "metadata": {},
   "outputs": [],
   "source": [
    "def get_timeline(match_id, ppi, region=\"kr\", give_json=True):\n",
    "    url = [\"https://\", \".api.riotgames.com/lol/match/v4/timelines/by-match/\"]\n",
    "    url = \"\".join([url[0], region, url[1], match_id])\n",
    "    timeline_res = requests.get(url, headers=HEADERS)\n",
    "\n",
    "    timeline_obj = json.loads(timeline_res.text)\n",
    "    \n",
    "    flattened_frames = []\n",
    "    j=0\n",
    "    for frame in timeline_obj[\"frames\"]:\n",
    "        timestamp = frame[\"timestamp\"]\n",
    "        for value in frame[\"participantFrames\"].values():\n",
    "            try:\n",
    "                value[\"x\"] = value[\"position\"][\"x\"]\n",
    "                value[\"y\"] = value[\"position\"][\"y\"]\n",
    "            except:\n",
    "                value[\"x\"] = np.nan\n",
    "                value[\"y\"] = np.nan\n",
    "\n",
    "        frame_df = pd.DataFrame.from_dict(frame[\"participantFrames\"])#.values.flatten()\n",
    "        try:\n",
    "            frame_df = frame_df.drop([\"position\", \"teamScore\", \"dominionScore\"])\n",
    "        except KeyError:\n",
    "            pass\n",
    "        if j==0:\n",
    "            curr = frame_df\n",
    "            j=1\n",
    "        flatten_frame = frame_df.values.flatten()\n",
    "        flattened_frames.append(np.append([timestamp],\n",
    "                                          flatten_frame))\n",
    "        \n",
    "    cols = [\"\".join([str(i), col]) for col in frame_df.index for i in range(10)]\n",
    "    \n",
    "    flattened_df = pd.DataFrame(flattened_frames, columns = [\"timestamp\"] + cols)\n",
    "    \n",
    "    dropcolslem = [\"participantId\", \"xp\", \"minionsKilled\"]\n",
    "    dropcolsnames = [colname for colname in cols if colname[1:] in dropcolslem]\n",
    "    \n",
    "    flattened_df = flattened_df.drop(dropcolsnames, axis=1)\n",
    "    ppi = ppi-1\n",
    "    #print(ppi)\n",
    "    player_pos_col = [str(ppi)+\"x\", str(ppi)+\"y\"]\n",
    "    try:\n",
    "        flattened_df[\"player_x\"] = flattened_df[player_pos_col[0]]\n",
    "        flattened_df[\"player_y\"] = flattened_df[player_pos_col[1]]\n",
    "    except Exception as e:\n",
    "        print(flattened_df.columns)\n",
    "        print(\"ppi err\",ppi)\n",
    "        raise e\n",
    "    flattened_df = flattened_df.drop(player_pos_col, axis=1)\n",
    "    if give_json:\n",
    "        return {\"df\": flattened_df, \"json\": timeline_obj}\n",
    "    else:\n",
    "        return {\"df\": flattened_df}\n",
    "    "
   ]
  },
  {
   "cell_type": "code",
   "execution_count": 6,
   "metadata": {},
   "outputs": [],
   "source": [
    "def get_n_timelines(match_df, start_index, end_index, give_json=True, region=\"kr\"):\n",
    "    matches = {}\n",
    "    dfs = {}\n",
    "    if give_json:\n",
    "        jsons = {}\n",
    "    for index in match_df.index[start_index:end_index]:\n",
    "        current_id = str(match_df.loc[index][\"gameId\"])\n",
    "        print(current_id)\n",
    "        matches[current_id], ppi = get_match(current_id)\n",
    "        result = get_timeline(current_id, ppi, region, give_json)\n",
    "        dfs[current_id] = result[\"df\"]\n",
    "        if give_json:\n",
    "            jsons[current_id] = result[\"json\"]\n",
    "    if give_json:\n",
    "        return matches, dfs, jsons\n",
    "    else:\n",
    "        return matches, dfs"
   ]
  },
  {
   "cell_type": "markdown",
   "metadata": {},
   "source": [
    "fetching timelines - I don't have a function to make the calls fit the api limits so you have to pause briefly between each of the following cells - its not bad though."
   ]
  },
  {
   "cell_type": "code",
   "execution_count": 7,
   "metadata": {
    "scrolled": true
   },
   "outputs": [
    {
     "name": "stdout",
     "output_type": "stream",
     "text": [
      "4758318885\n",
      "4758080001\n",
      "4757537954\n",
      "4756152547\n",
      "4755546321\n",
      "4748107995\n",
      "4744152493\n",
      "4742500253\n",
      "4742168190\n",
      "4742159411\n",
      "4669599190\n",
      "4668932045\n",
      "4668810801\n",
      "4665455970\n",
      "4662458766\n",
      "4660933260\n",
      "4658383282\n",
      "4658159482\n",
      "4655655968\n",
      "4651946207\n",
      "4651011235\n",
      "4650913342\n",
      "4650801256\n",
      "4633492176\n",
      "4633319621\n",
      "4631099181\n",
      "4629920541\n",
      "4629106507\n",
      "4625963005\n",
      "4622647593\n",
      "4616967917\n",
      "4616577273\n",
      "4609450944\n",
      "4604876381\n",
      "4598325463\n",
      "4592845549\n",
      "4573020600\n",
      "4555960882\n",
      "4555921982\n",
      "4553887990\n"
     ]
    }
   ],
   "source": [
    "result1 = get_n_timelines(matches, 0, 40)"
   ]
  },
  {
   "cell_type": "code",
   "execution_count": 9,
   "metadata": {
    "scrolled": true
   },
   "outputs": [
    {
     "name": "stdout",
     "output_type": "stream",
     "text": [
      "4552028319\n",
      "4544368107\n",
      "4544372229\n",
      "4544335028\n",
      "4542083040\n",
      "4540074459\n",
      "4539141730\n",
      "4537862570\n",
      "4535839528\n",
      "4528467940\n",
      "4528035920\n",
      "4520522751\n",
      "4514179696\n",
      "4509017053\n",
      "4508910315\n",
      "4507272154\n",
      "4503195065\n",
      "4502791368\n",
      "4502690200\n",
      "4502533888\n",
      "4498692977\n",
      "4498628202\n",
      "4498461682\n",
      "4496965859\n",
      "4496386394\n",
      "4494749025\n",
      "4492823203\n",
      "4491147223\n",
      "4491143425\n",
      "4484596745\n",
      "4480575656\n",
      "4478911697\n",
      "4478771421\n",
      "4476545133\n",
      "4470325921\n",
      "4470371078\n",
      "4468569705\n",
      "4468416958\n",
      "4466385623\n",
      "4464408055\n"
     ]
    }
   ],
   "source": [
    "result2 = get_n_timelines(matches, 40, 80)"
   ]
  },
  {
   "cell_type": "code",
   "execution_count": 10,
   "metadata": {
    "scrolled": true
   },
   "outputs": [
    {
     "name": "stdout",
     "output_type": "stream",
     "text": [
      "4456274649\n",
      "4456185422\n",
      "4448956473\n",
      "4448834078\n",
      "4448628377\n",
      "4446420179\n",
      "4446373912\n",
      "4446069318\n",
      "4441819455\n",
      "4436066469\n",
      "4434408444\n",
      "4429689512\n",
      "4428873490\n",
      "4428228448\n",
      "4425852270\n",
      "4425775790\n",
      "4424773215\n",
      "4423982035\n",
      "4413183949\n",
      "4410969345\n",
      "4410511912\n",
      "4410490837\n",
      "4409113025\n",
      "4409065738\n",
      "4408476991\n",
      "4397581855\n",
      "4395118062\n",
      "4394535536\n",
      "4392931315\n",
      "4392746003\n",
      "4379145543\n",
      "4379097545\n",
      "4377445683\n",
      "4371938229\n",
      "4364006121\n",
      "4363890040\n",
      "4363312004\n",
      "4361865996\n",
      "4361599335\n",
      "4361013090\n"
     ]
    }
   ],
   "source": [
    "result3 = get_n_timelines(matches, 80, 120)"
   ]
  },
  {
   "cell_type": "code",
   "execution_count": 11,
   "metadata": {
    "scrolled": true
   },
   "outputs": [
    {
     "name": "stdout",
     "output_type": "stream",
     "text": [
      "4456274649\n",
      "4456185422\n",
      "4448956473\n",
      "4448834078\n",
      "4448628377\n",
      "4446420179\n",
      "4446373912\n",
      "4446069318\n",
      "4441819455\n",
      "4436066469\n",
      "4434408444\n",
      "4429689512\n",
      "4428873490\n",
      "4428228448\n",
      "4425852270\n",
      "4425775790\n",
      "4424773215\n",
      "4423982035\n",
      "4413183949\n",
      "4410969345\n",
      "4410511912\n",
      "4410490837\n",
      "4409113025\n",
      "4409065738\n",
      "4408476991\n",
      "4397581855\n",
      "4395118062\n",
      "4394535536\n",
      "4392931315\n",
      "4392746003\n",
      "4379145543\n",
      "4379097545\n",
      "4377445683\n",
      "4371938229\n",
      "4364006121\n",
      "4363890040\n",
      "4363312004\n",
      "4361865996\n",
      "4361599335\n",
      "4361013090\n"
     ]
    }
   ],
   "source": [
    "result4 = get_n_timelines(matches, 80, 120)"
   ]
  },
  {
   "cell_type": "code",
   "execution_count": 12,
   "metadata": {},
   "outputs": [
    {
     "data": {
      "text/plain": [
       "120"
      ]
     },
     "execution_count": 12,
     "metadata": {},
     "output_type": "execute_result"
    }
   ],
   "source": [
    "# rdd = result_df_dis \n",
    "rdd = [result1[1],result2[1],result3[1],result4[1]]\n",
    "result_ids = set(rdd[0].keys())\n",
    "result_ids.update(result2[1].keys(),result3[1].keys(),result4[1].keys())\n",
    "len(result_ids)"
   ]
  },
  {
   "cell_type": "code",
   "execution_count": 13,
   "metadata": {},
   "outputs": [],
   "source": [
    "dfs_dict = {**rdd[0], **rdd[1], **rdd[2], **rdd[3]}"
   ]
  },
  {
   "cell_type": "code",
   "execution_count": 14,
   "metadata": {},
   "outputs": [
    {
     "data": {
      "text/plain": [
       "120"
      ]
     },
     "execution_count": 14,
     "metadata": {},
     "output_type": "execute_result"
    }
   ],
   "source": [
    "len(dfs_dict.keys())"
   ]
  },
  {
   "cell_type": "code",
   "execution_count": 15,
   "metadata": {},
   "outputs": [],
   "source": [
    "import pickle\n",
    "pickle.dump(dfs_dict, open(\"data/timeline-di.p\", \"wb\"))"
   ]
  },
  {
   "cell_type": "code",
   "execution_count": 16,
   "metadata": {},
   "outputs": [],
   "source": [
    "rjd = [result1[2],result2[2],result3[2],result4[2]]\n",
    "jsons_dict = {**rjd[0], **rjd[1], **rjd[2], **rjd[3]}"
   ]
  },
  {
   "cell_type": "code",
   "execution_count": 17,
   "metadata": {},
   "outputs": [],
   "source": [
    "pickle.dump(jsons_dict, open(\"data/json-timeline-di.p\", \"wb\"))"
   ]
  },
  {
   "cell_type": "code",
   "execution_count": 18,
   "metadata": {},
   "outputs": [],
   "source": [
    "rmd = [result1[0],result2[0],result3[0],result4[0]]\n",
    "match_dict = {**rmd[0], **rmd[1], **rmd[2], **rmd[3]}"
   ]
  },
  {
   "cell_type": "code",
   "execution_count": 19,
   "metadata": {},
   "outputs": [],
   "source": [
    "pickle.dump(match_dict, open(\"data/match-di.p\", \"wb\"))"
   ]
  }
 ],
 "metadata": {
  "kernelspec": {
   "display_name": "Python 3",
   "language": "python",
   "name": "python3"
  },
  "language_info": {
   "codemirror_mode": {
    "name": "ipython",
    "version": 3
   },
   "file_extension": ".py",
   "mimetype": "text/x-python",
   "name": "python",
   "nbconvert_exporter": "python",
   "pygments_lexer": "ipython3",
   "version": "3.7.6"
  }
 },
 "nbformat": 4,
 "nbformat_minor": 4
}
